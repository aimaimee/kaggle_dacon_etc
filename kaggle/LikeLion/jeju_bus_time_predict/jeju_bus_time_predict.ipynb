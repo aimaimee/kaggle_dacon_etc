{
 "cells": [
  {
   "cell_type": "markdown",
   "id": "2524a93e",
   "metadata": {},
   "source": [
    "# 데이콘 버스 운행시간 예측 경진대회\n",
    "\n",
    "* https://dacon.io/competitions/official/229611/overview/description\n",
    "\n",
    "## 라이브러리 및 데이터 확인"
   ]
  },
  {
   "cell_type": "code",
   "execution_count": 1,
   "id": "0b366352",
   "metadata": {},
   "outputs": [],
   "source": [
    "import pandas as pd\n",
    "import seaborn as sns\n",
    "import numpy as np\n",
    "import matplotlib.pyplot as plt"
   ]
  },
  {
   "cell_type": "code",
   "execution_count": 2,
   "id": "0cb326c4",
   "metadata": {},
   "outputs": [
    {
     "name": "stdout",
     "output_type": "stream",
     "text": [
      "(210457, 13)\n"
     ]
    },
    {
     "data": {
      "text/html": [
       "<div>\n",
       "<style scoped>\n",
       "    .dataframe tbody tr th:only-of-type {\n",
       "        vertical-align: middle;\n",
       "    }\n",
       "\n",
       "    .dataframe tbody tr th {\n",
       "        vertical-align: top;\n",
       "    }\n",
       "\n",
       "    .dataframe thead th {\n",
       "        text-align: right;\n",
       "    }\n",
       "</style>\n",
       "<table border=\"1\" class=\"dataframe\">\n",
       "  <thead>\n",
       "    <tr style=\"text-align: right;\">\n",
       "      <th></th>\n",
       "      <th>date</th>\n",
       "      <th>route_id</th>\n",
       "      <th>vh_id</th>\n",
       "      <th>route_nm</th>\n",
       "      <th>now_latitude</th>\n",
       "      <th>now_longitude</th>\n",
       "      <th>now_station</th>\n",
       "      <th>now_arrive_time</th>\n",
       "      <th>distance</th>\n",
       "      <th>next_station</th>\n",
       "      <th>next_latitude</th>\n",
       "      <th>next_longitude</th>\n",
       "      <th>next_arrive_time</th>\n",
       "    </tr>\n",
       "    <tr>\n",
       "      <th>id</th>\n",
       "      <th></th>\n",
       "      <th></th>\n",
       "      <th></th>\n",
       "      <th></th>\n",
       "      <th></th>\n",
       "      <th></th>\n",
       "      <th></th>\n",
       "      <th></th>\n",
       "      <th></th>\n",
       "      <th></th>\n",
       "      <th></th>\n",
       "      <th></th>\n",
       "      <th></th>\n",
       "    </tr>\n",
       "  </thead>\n",
       "  <tbody>\n",
       "    <tr>\n",
       "      <th>0</th>\n",
       "      <td>2019-10-15</td>\n",
       "      <td>405136001</td>\n",
       "      <td>7997025</td>\n",
       "      <td>360-1</td>\n",
       "      <td>33.456267</td>\n",
       "      <td>126.551750</td>\n",
       "      <td>제주대학교입구</td>\n",
       "      <td>06시</td>\n",
       "      <td>266.0</td>\n",
       "      <td>제대마을</td>\n",
       "      <td>33.457724</td>\n",
       "      <td>126.554014</td>\n",
       "      <td>24</td>\n",
       "    </tr>\n",
       "    <tr>\n",
       "      <th>1</th>\n",
       "      <td>2019-10-15</td>\n",
       "      <td>405136001</td>\n",
       "      <td>7997025</td>\n",
       "      <td>360-1</td>\n",
       "      <td>33.457724</td>\n",
       "      <td>126.554014</td>\n",
       "      <td>제대마을</td>\n",
       "      <td>06시</td>\n",
       "      <td>333.0</td>\n",
       "      <td>제대아파트</td>\n",
       "      <td>33.458783</td>\n",
       "      <td>126.557353</td>\n",
       "      <td>36</td>\n",
       "    </tr>\n",
       "  </tbody>\n",
       "</table>\n",
       "</div>"
      ],
      "text/plain": [
       "          date   route_id    vh_id route_nm  now_latitude  now_longitude  \\\n",
       "id                                                                         \n",
       "0   2019-10-15  405136001  7997025    360-1     33.456267     126.551750   \n",
       "1   2019-10-15  405136001  7997025    360-1     33.457724     126.554014   \n",
       "\n",
       "   now_station now_arrive_time  distance next_station  next_latitude  \\\n",
       "id                                                                     \n",
       "0      제주대학교입구             06시     266.0         제대마을      33.457724   \n",
       "1         제대마을             06시     333.0        제대아파트      33.458783   \n",
       "\n",
       "    next_longitude  next_arrive_time  \n",
       "id                                    \n",
       "0       126.554014                24  \n",
       "1       126.557353                36  "
      ]
     },
     "execution_count": 2,
     "metadata": {},
     "output_type": "execute_result"
    }
   ],
   "source": [
    "# date, route_id, vh_id, route_nm은 삭제해도 될 것 같은데\n",
    "train = pd.read_csv(\"bus/train.csv\", index_col=\"id\")\n",
    "print(train.shape)\n",
    "train.head(2)"
   ]
  },
  {
   "cell_type": "code",
   "execution_count": 3,
   "id": "37aa0701",
   "metadata": {},
   "outputs": [
    {
     "data": {
      "text/html": [
       "<div>\n",
       "<style scoped>\n",
       "    .dataframe tbody tr th:only-of-type {\n",
       "        vertical-align: middle;\n",
       "    }\n",
       "\n",
       "    .dataframe tbody tr th {\n",
       "        vertical-align: top;\n",
       "    }\n",
       "\n",
       "    .dataframe thead th {\n",
       "        text-align: right;\n",
       "    }\n",
       "</style>\n",
       "<table border=\"1\" class=\"dataframe\">\n",
       "  <thead>\n",
       "    <tr style=\"text-align: right;\">\n",
       "      <th></th>\n",
       "      <th>route_id</th>\n",
       "      <th>vh_id</th>\n",
       "      <th>now_latitude</th>\n",
       "      <th>now_longitude</th>\n",
       "      <th>distance</th>\n",
       "      <th>next_latitude</th>\n",
       "      <th>next_longitude</th>\n",
       "      <th>next_arrive_time</th>\n",
       "    </tr>\n",
       "  </thead>\n",
       "  <tbody>\n",
       "    <tr>\n",
       "      <th>count</th>\n",
       "      <td>2.104570e+05</td>\n",
       "      <td>2.104570e+05</td>\n",
       "      <td>210457.000000</td>\n",
       "      <td>210457.000000</td>\n",
       "      <td>210457.000000</td>\n",
       "      <td>210457.000000</td>\n",
       "      <td>210457.000000</td>\n",
       "      <td>210457.000000</td>\n",
       "    </tr>\n",
       "    <tr>\n",
       "      <th>mean</th>\n",
       "      <td>4.052491e+08</td>\n",
       "      <td>7.988694e+06</td>\n",
       "      <td>33.434528</td>\n",
       "      <td>126.603451</td>\n",
       "      <td>490.256100</td>\n",
       "      <td>33.434711</td>\n",
       "      <td>126.603687</td>\n",
       "      <td>85.380824</td>\n",
       "    </tr>\n",
       "    <tr>\n",
       "      <th>std</th>\n",
       "      <td>9.132404e+04</td>\n",
       "      <td>6.774077e+03</td>\n",
       "      <td>0.102350</td>\n",
       "      <td>0.123961</td>\n",
       "      <td>520.563932</td>\n",
       "      <td>0.102224</td>\n",
       "      <td>0.123838</td>\n",
       "      <td>85.051170</td>\n",
       "    </tr>\n",
       "    <tr>\n",
       "      <th>min</th>\n",
       "      <td>4.051360e+08</td>\n",
       "      <td>7.983000e+06</td>\n",
       "      <td>33.244382</td>\n",
       "      <td>126.473300</td>\n",
       "      <td>97.000000</td>\n",
       "      <td>33.244382</td>\n",
       "      <td>126.473300</td>\n",
       "      <td>6.000000</td>\n",
       "    </tr>\n",
       "    <tr>\n",
       "      <th>25%</th>\n",
       "      <td>4.051365e+08</td>\n",
       "      <td>7.983093e+06</td>\n",
       "      <td>33.325283</td>\n",
       "      <td>126.523900</td>\n",
       "      <td>291.000000</td>\n",
       "      <td>33.325283</td>\n",
       "      <td>126.524550</td>\n",
       "      <td>44.000000</td>\n",
       "    </tr>\n",
       "    <tr>\n",
       "      <th>50%</th>\n",
       "      <td>4.053201e+08</td>\n",
       "      <td>7.983431e+06</td>\n",
       "      <td>33.484667</td>\n",
       "      <td>126.551050</td>\n",
       "      <td>384.000000</td>\n",
       "      <td>33.484860</td>\n",
       "      <td>126.551050</td>\n",
       "      <td>66.000000</td>\n",
       "    </tr>\n",
       "    <tr>\n",
       "      <th>75%</th>\n",
       "      <td>4.053201e+08</td>\n",
       "      <td>7.997041e+06</td>\n",
       "      <td>33.500197</td>\n",
       "      <td>126.650322</td>\n",
       "      <td>542.000000</td>\n",
       "      <td>33.500228</td>\n",
       "      <td>126.650322</td>\n",
       "      <td>102.000000</td>\n",
       "    </tr>\n",
       "    <tr>\n",
       "      <th>max</th>\n",
       "      <td>4.053281e+08</td>\n",
       "      <td>7.997124e+06</td>\n",
       "      <td>33.556167</td>\n",
       "      <td>126.935188</td>\n",
       "      <td>7461.000000</td>\n",
       "      <td>33.556167</td>\n",
       "      <td>126.935188</td>\n",
       "      <td>2996.000000</td>\n",
       "    </tr>\n",
       "  </tbody>\n",
       "</table>\n",
       "</div>"
      ],
      "text/plain": [
       "           route_id         vh_id   now_latitude  now_longitude  \\\n",
       "count  2.104570e+05  2.104570e+05  210457.000000  210457.000000   \n",
       "mean   4.052491e+08  7.988694e+06      33.434528     126.603451   \n",
       "std    9.132404e+04  6.774077e+03       0.102350       0.123961   \n",
       "min    4.051360e+08  7.983000e+06      33.244382     126.473300   \n",
       "25%    4.051365e+08  7.983093e+06      33.325283     126.523900   \n",
       "50%    4.053201e+08  7.983431e+06      33.484667     126.551050   \n",
       "75%    4.053201e+08  7.997041e+06      33.500197     126.650322   \n",
       "max    4.053281e+08  7.997124e+06      33.556167     126.935188   \n",
       "\n",
       "            distance  next_latitude  next_longitude  next_arrive_time  \n",
       "count  210457.000000  210457.000000   210457.000000     210457.000000  \n",
       "mean      490.256100      33.434711      126.603687         85.380824  \n",
       "std       520.563932       0.102224        0.123838         85.051170  \n",
       "min        97.000000      33.244382      126.473300          6.000000  \n",
       "25%       291.000000      33.325283      126.524550         44.000000  \n",
       "50%       384.000000      33.484860      126.551050         66.000000  \n",
       "75%       542.000000      33.500228      126.650322        102.000000  \n",
       "max      7461.000000      33.556167      126.935188       2996.000000  "
      ]
     },
     "execution_count": 3,
     "metadata": {},
     "output_type": "execute_result"
    }
   ],
   "source": [
    "train.describe()"
   ]
  },
  {
   "cell_type": "code",
   "execution_count": 4,
   "id": "964c557f",
   "metadata": {},
   "outputs": [
    {
     "name": "stdout",
     "output_type": "stream",
     "text": [
      "<class 'pandas.core.frame.DataFrame'>\n",
      "Int64Index: 210457 entries, 0 to 210456\n",
      "Data columns (total 13 columns):\n",
      " #   Column            Non-Null Count   Dtype  \n",
      "---  ------            --------------   -----  \n",
      " 0   date              210457 non-null  object \n",
      " 1   route_id          210457 non-null  int64  \n",
      " 2   vh_id             210457 non-null  int64  \n",
      " 3   route_nm          210457 non-null  object \n",
      " 4   now_latitude      210457 non-null  float64\n",
      " 5   now_longitude     210457 non-null  float64\n",
      " 6   now_station       210457 non-null  object \n",
      " 7   now_arrive_time   210457 non-null  object \n",
      " 8   distance          210457 non-null  float64\n",
      " 9   next_station      210457 non-null  object \n",
      " 10  next_latitude     210457 non-null  float64\n",
      " 11  next_longitude    210457 non-null  float64\n",
      " 12  next_arrive_time  210457 non-null  int64  \n",
      "dtypes: float64(5), int64(3), object(5)\n",
      "memory usage: 22.5+ MB\n"
     ]
    }
   ],
   "source": [
    "train.info()"
   ]
  },
  {
   "cell_type": "code",
   "execution_count": 5,
   "id": "f7f4320d",
   "metadata": {},
   "outputs": [
    {
     "name": "stdout",
     "output_type": "stream",
     "text": [
      "(91774, 12)\n"
     ]
    },
    {
     "data": {
      "text/html": [
       "<div>\n",
       "<style scoped>\n",
       "    .dataframe tbody tr th:only-of-type {\n",
       "        vertical-align: middle;\n",
       "    }\n",
       "\n",
       "    .dataframe tbody tr th {\n",
       "        vertical-align: top;\n",
       "    }\n",
       "\n",
       "    .dataframe thead th {\n",
       "        text-align: right;\n",
       "    }\n",
       "</style>\n",
       "<table border=\"1\" class=\"dataframe\">\n",
       "  <thead>\n",
       "    <tr style=\"text-align: right;\">\n",
       "      <th></th>\n",
       "      <th>date</th>\n",
       "      <th>route_id</th>\n",
       "      <th>vh_id</th>\n",
       "      <th>route_nm</th>\n",
       "      <th>now_latitude</th>\n",
       "      <th>now_longitude</th>\n",
       "      <th>now_station</th>\n",
       "      <th>now_arrive_time</th>\n",
       "      <th>distance</th>\n",
       "      <th>next_station</th>\n",
       "      <th>next_latitude</th>\n",
       "      <th>next_longitude</th>\n",
       "    </tr>\n",
       "    <tr>\n",
       "      <th>id</th>\n",
       "      <th></th>\n",
       "      <th></th>\n",
       "      <th></th>\n",
       "      <th></th>\n",
       "      <th></th>\n",
       "      <th></th>\n",
       "      <th></th>\n",
       "      <th></th>\n",
       "      <th></th>\n",
       "      <th></th>\n",
       "      <th></th>\n",
       "      <th></th>\n",
       "    </tr>\n",
       "  </thead>\n",
       "  <tbody>\n",
       "    <tr>\n",
       "      <th>210457</th>\n",
       "      <td>2019-10-29</td>\n",
       "      <td>405136001</td>\n",
       "      <td>7997025</td>\n",
       "      <td>360-1</td>\n",
       "      <td>33.457724</td>\n",
       "      <td>126.554014</td>\n",
       "      <td>제대마을</td>\n",
       "      <td>07시</td>\n",
       "      <td>333.0</td>\n",
       "      <td>제대아파트</td>\n",
       "      <td>33.458783</td>\n",
       "      <td>126.557353</td>\n",
       "    </tr>\n",
       "    <tr>\n",
       "      <th>210458</th>\n",
       "      <td>2019-10-29</td>\n",
       "      <td>405136001</td>\n",
       "      <td>7997025</td>\n",
       "      <td>360-1</td>\n",
       "      <td>33.458783</td>\n",
       "      <td>126.557353</td>\n",
       "      <td>제대아파트</td>\n",
       "      <td>07시</td>\n",
       "      <td>415.0</td>\n",
       "      <td>제주대학교</td>\n",
       "      <td>33.459893</td>\n",
       "      <td>126.561624</td>\n",
       "    </tr>\n",
       "    <tr>\n",
       "      <th>210459</th>\n",
       "      <td>2019-10-29</td>\n",
       "      <td>405136001</td>\n",
       "      <td>7997025</td>\n",
       "      <td>360-1</td>\n",
       "      <td>33.478867</td>\n",
       "      <td>126.483833</td>\n",
       "      <td>한라중학교/부영아파트</td>\n",
       "      <td>08시</td>\n",
       "      <td>417.0</td>\n",
       "      <td>대림2차아파트</td>\n",
       "      <td>33.478850</td>\n",
       "      <td>126.488350</td>\n",
       "    </tr>\n",
       "    <tr>\n",
       "      <th>210460</th>\n",
       "      <td>2019-10-29</td>\n",
       "      <td>405136001</td>\n",
       "      <td>7997025</td>\n",
       "      <td>360-1</td>\n",
       "      <td>33.478850</td>\n",
       "      <td>126.488350</td>\n",
       "      <td>대림2차아파트</td>\n",
       "      <td>08시</td>\n",
       "      <td>334.0</td>\n",
       "      <td>연동대림1차아파트</td>\n",
       "      <td>33.480700</td>\n",
       "      <td>126.489933</td>\n",
       "    </tr>\n",
       "    <tr>\n",
       "      <th>210461</th>\n",
       "      <td>2019-10-29</td>\n",
       "      <td>405136001</td>\n",
       "      <td>7997025</td>\n",
       "      <td>360-1</td>\n",
       "      <td>33.480700</td>\n",
       "      <td>126.489933</td>\n",
       "      <td>연동대림1차아파트</td>\n",
       "      <td>08시</td>\n",
       "      <td>550.0</td>\n",
       "      <td>케이티앤지</td>\n",
       "      <td>33.482077</td>\n",
       "      <td>126.485355</td>\n",
       "    </tr>\n",
       "  </tbody>\n",
       "</table>\n",
       "</div>"
      ],
      "text/plain": [
       "              date   route_id    vh_id route_nm  now_latitude  now_longitude  \\\n",
       "id                                                                             \n",
       "210457  2019-10-29  405136001  7997025    360-1     33.457724     126.554014   \n",
       "210458  2019-10-29  405136001  7997025    360-1     33.458783     126.557353   \n",
       "210459  2019-10-29  405136001  7997025    360-1     33.478867     126.483833   \n",
       "210460  2019-10-29  405136001  7997025    360-1     33.478850     126.488350   \n",
       "210461  2019-10-29  405136001  7997025    360-1     33.480700     126.489933   \n",
       "\n",
       "        now_station now_arrive_time  distance next_station  next_latitude  \\\n",
       "id                                                                          \n",
       "210457         제대마을             07시     333.0        제대아파트      33.458783   \n",
       "210458        제대아파트             07시     415.0        제주대학교      33.459893   \n",
       "210459  한라중학교/부영아파트             08시     417.0      대림2차아파트      33.478850   \n",
       "210460      대림2차아파트             08시     334.0    연동대림1차아파트      33.480700   \n",
       "210461    연동대림1차아파트             08시     550.0        케이티앤지      33.482077   \n",
       "\n",
       "        next_longitude  \n",
       "id                      \n",
       "210457      126.557353  \n",
       "210458      126.561624  \n",
       "210459      126.488350  \n",
       "210460      126.489933  \n",
       "210461      126.485355  "
      ]
     },
     "execution_count": 5,
     "metadata": {},
     "output_type": "execute_result"
    }
   ],
   "source": [
    "test = pd.read_csv(\"bus/test.csv\", index_col=\"id\")\n",
    "print(test.shape)\n",
    "test.head()"
   ]
  },
  {
   "cell_type": "code",
   "execution_count": 6,
   "id": "3d0e413c",
   "metadata": {},
   "outputs": [
    {
     "data": {
      "text/plain": [
       "{'next_arrive_time'}"
      ]
     },
     "execution_count": 6,
     "metadata": {},
     "output_type": "execute_result"
    }
   ],
   "source": [
    "set(train.columns) - set(test.columns)"
   ]
  },
  {
   "cell_type": "code",
   "execution_count": 7,
   "id": "1639e54c",
   "metadata": {},
   "outputs": [
    {
     "data": {
      "text/plain": [
       "array(['360-1', '360-2', '360-7', '360-12', '365-21', '365-22', '201-11',\n",
       "       '201-12', '201-13', '201-14', '201-15', '201-16', '201-17',\n",
       "       '201-18', '201-21', '201-22', '201-24', '201-26', '201-27',\n",
       "       '281-1', '281-2'], dtype=object)"
      ]
     },
     "execution_count": 7,
     "metadata": {},
     "output_type": "execute_result"
    }
   ],
   "source": [
    "train[\"route_nm\"].unique()"
   ]
  },
  {
   "cell_type": "code",
   "execution_count": 8,
   "id": "321fe3b8",
   "metadata": {
    "scrolled": true
   },
   "outputs": [
    {
     "data": {
      "text/plain": [
       "array(['2019-10-15', '2019-10-16', '2019-10-17', '2019-10-18',\n",
       "       '2019-10-19', '2019-10-20', '2019-10-21', '2019-10-22',\n",
       "       '2019-10-23', '2019-10-24', '2019-10-25', '2019-10-26',\n",
       "       '2019-10-27', '2019-10-28'], dtype=object)"
      ]
     },
     "execution_count": 8,
     "metadata": {},
     "output_type": "execute_result"
    }
   ],
   "source": [
    "train[\"date\"].unique()"
   ]
  },
  {
   "cell_type": "code",
   "execution_count": 9,
   "id": "845271c8",
   "metadata": {},
   "outputs": [
    {
     "data": {
      "text/plain": [
       "Index(['date', 'route_id', 'vh_id', 'route_nm', 'now_latitude',\n",
       "       'now_longitude', 'now_station', 'now_arrive_time', 'distance',\n",
       "       'next_station', 'next_latitude', 'next_longitude', 'next_arrive_time'],\n",
       "      dtype='object')"
      ]
     },
     "execution_count": 9,
     "metadata": {},
     "output_type": "execute_result"
    }
   ],
   "source": [
    "train.columns"
   ]
  },
  {
   "cell_type": "code",
   "execution_count": 10,
   "id": "74106df4",
   "metadata": {},
   "outputs": [],
   "source": [
    "# 뒤에서 필요 없는 데이터는 한번에 빼기로\n",
    "# train.drop([\"route_nm\", \"vh_id\", \"now_station\", \"next_station\"], axis=1, inplace=True)"
   ]
  },
  {
   "cell_type": "code",
   "execution_count": 11,
   "id": "2bc55d0a",
   "metadata": {
    "collapsed": true
   },
   "outputs": [
    {
     "data": {
      "text/html": [
       "<div>\n",
       "<style scoped>\n",
       "    .dataframe tbody tr th:only-of-type {\n",
       "        vertical-align: middle;\n",
       "    }\n",
       "\n",
       "    .dataframe tbody tr th {\n",
       "        vertical-align: top;\n",
       "    }\n",
       "\n",
       "    .dataframe thead th {\n",
       "        text-align: right;\n",
       "    }\n",
       "</style>\n",
       "<table border=\"1\" class=\"dataframe\">\n",
       "  <thead>\n",
       "    <tr style=\"text-align: right;\">\n",
       "      <th></th>\n",
       "      <th>date</th>\n",
       "      <th>route_id</th>\n",
       "      <th>vh_id</th>\n",
       "      <th>route_nm</th>\n",
       "      <th>now_latitude</th>\n",
       "      <th>now_longitude</th>\n",
       "      <th>now_station</th>\n",
       "      <th>now_arrive_time</th>\n",
       "      <th>distance</th>\n",
       "      <th>next_station</th>\n",
       "      <th>next_latitude</th>\n",
       "      <th>next_longitude</th>\n",
       "      <th>next_arrive_time</th>\n",
       "    </tr>\n",
       "    <tr>\n",
       "      <th>id</th>\n",
       "      <th></th>\n",
       "      <th></th>\n",
       "      <th></th>\n",
       "      <th></th>\n",
       "      <th></th>\n",
       "      <th></th>\n",
       "      <th></th>\n",
       "      <th></th>\n",
       "      <th></th>\n",
       "      <th></th>\n",
       "      <th></th>\n",
       "      <th></th>\n",
       "      <th></th>\n",
       "    </tr>\n",
       "  </thead>\n",
       "  <tbody>\n",
       "    <tr>\n",
       "      <th>0</th>\n",
       "      <td>2019-10-15</td>\n",
       "      <td>405136001</td>\n",
       "      <td>7997025</td>\n",
       "      <td>360-1</td>\n",
       "      <td>33.456267</td>\n",
       "      <td>126.551750</td>\n",
       "      <td>제주대학교입구</td>\n",
       "      <td>06시</td>\n",
       "      <td>266.0</td>\n",
       "      <td>제대마을</td>\n",
       "      <td>33.457724</td>\n",
       "      <td>126.554014</td>\n",
       "      <td>24</td>\n",
       "    </tr>\n",
       "    <tr>\n",
       "      <th>1</th>\n",
       "      <td>2019-10-15</td>\n",
       "      <td>405136001</td>\n",
       "      <td>7997025</td>\n",
       "      <td>360-1</td>\n",
       "      <td>33.457724</td>\n",
       "      <td>126.554014</td>\n",
       "      <td>제대마을</td>\n",
       "      <td>06시</td>\n",
       "      <td>333.0</td>\n",
       "      <td>제대아파트</td>\n",
       "      <td>33.458783</td>\n",
       "      <td>126.557353</td>\n",
       "      <td>36</td>\n",
       "    </tr>\n",
       "    <tr>\n",
       "      <th>2</th>\n",
       "      <td>2019-10-15</td>\n",
       "      <td>405136001</td>\n",
       "      <td>7997025</td>\n",
       "      <td>360-1</td>\n",
       "      <td>33.458783</td>\n",
       "      <td>126.557353</td>\n",
       "      <td>제대아파트</td>\n",
       "      <td>06시</td>\n",
       "      <td>415.0</td>\n",
       "      <td>제주대학교</td>\n",
       "      <td>33.459893</td>\n",
       "      <td>126.561624</td>\n",
       "      <td>40</td>\n",
       "    </tr>\n",
       "    <tr>\n",
       "      <th>3</th>\n",
       "      <td>2019-10-15</td>\n",
       "      <td>405136001</td>\n",
       "      <td>7997025</td>\n",
       "      <td>360-1</td>\n",
       "      <td>33.479705</td>\n",
       "      <td>126.543811</td>\n",
       "      <td>남국원(아라방면)</td>\n",
       "      <td>06시</td>\n",
       "      <td>578.0</td>\n",
       "      <td>제주여자중고등학교(아라방면)</td>\n",
       "      <td>33.484860</td>\n",
       "      <td>126.542928</td>\n",
       "      <td>42</td>\n",
       "    </tr>\n",
       "    <tr>\n",
       "      <th>4</th>\n",
       "      <td>2019-10-15</td>\n",
       "      <td>405136001</td>\n",
       "      <td>7997025</td>\n",
       "      <td>360-1</td>\n",
       "      <td>33.485662</td>\n",
       "      <td>126.494923</td>\n",
       "      <td>도호동</td>\n",
       "      <td>07시</td>\n",
       "      <td>374.0</td>\n",
       "      <td>은남동</td>\n",
       "      <td>33.485822</td>\n",
       "      <td>126.490897</td>\n",
       "      <td>64</td>\n",
       "    </tr>\n",
       "  </tbody>\n",
       "</table>\n",
       "</div>"
      ],
      "text/plain": [
       "          date   route_id    vh_id route_nm  now_latitude  now_longitude  \\\n",
       "id                                                                         \n",
       "0   2019-10-15  405136001  7997025    360-1     33.456267     126.551750   \n",
       "1   2019-10-15  405136001  7997025    360-1     33.457724     126.554014   \n",
       "2   2019-10-15  405136001  7997025    360-1     33.458783     126.557353   \n",
       "3   2019-10-15  405136001  7997025    360-1     33.479705     126.543811   \n",
       "4   2019-10-15  405136001  7997025    360-1     33.485662     126.494923   \n",
       "\n",
       "   now_station now_arrive_time  distance     next_station  next_latitude  \\\n",
       "id                                                                         \n",
       "0      제주대학교입구             06시     266.0             제대마을      33.457724   \n",
       "1         제대마을             06시     333.0            제대아파트      33.458783   \n",
       "2        제대아파트             06시     415.0            제주대학교      33.459893   \n",
       "3    남국원(아라방면)             06시     578.0  제주여자중고등학교(아라방면)      33.484860   \n",
       "4          도호동             07시     374.0              은남동      33.485822   \n",
       "\n",
       "    next_longitude  next_arrive_time  \n",
       "id                                    \n",
       "0       126.554014                24  \n",
       "1       126.557353                36  \n",
       "2       126.561624                40  \n",
       "3       126.542928                42  \n",
       "4       126.490897                64  "
      ]
     },
     "execution_count": 11,
     "metadata": {},
     "output_type": "execute_result"
    }
   ],
   "source": [
    "# train.head()"
   ]
  },
  {
   "cell_type": "markdown",
   "id": "876171af",
   "metadata": {},
   "source": [
    "## log"
   ]
  },
  {
   "cell_type": "code",
   "execution_count": 12,
   "id": "b2aeac5e",
   "metadata": {},
   "outputs": [
    {
     "data": {
      "image/png": "[encoded data removed]",
      "text/plain": [
       "<Figure size 2500x500 with 1 Axes>"
      ]
     },
     "metadata": {},
     "output_type": "display_data"
    }
   ],
   "source": [
    "sns.displot(data=train, x=\"next_arrive_time\", aspect=5, kind=\"kde\")\n",
    "plt.show()"
   ]
  },
  {
   "cell_type": "code",
   "execution_count": 13,
   "id": "dfdfd367",
   "metadata": {},
   "outputs": [
    {
     "name": "stdout",
     "output_type": "stream",
     "text": [
      "왜도(Skewness): 11.332142001311919\n",
      "첨도(Kurtosis): 257.4816986235605\n"
     ]
    }
   ],
   "source": [
    "# 첨도>3 뾰족\n",
    "print(\"왜도(Skewness):\", train[\"next_arrive_time\"].skew())\n",
    "print(\"첨도(Kurtosis):\", train[\"next_arrive_time\"].kurtosis())"
   ]
  },
  {
   "cell_type": "code",
   "execution_count": 14,
   "id": "d5e77453",
   "metadata": {},
   "outputs": [
    {
     "data": {
      "image/png": "[encoded data removed]",
      "text/plain": [
       "<Figure size 640x480 with 1 Axes>"
      ]
     },
     "metadata": {},
     "output_type": "display_data"
    }
   ],
   "source": [
    "sns.kdeplot(np.log1p(train[\"next_arrive_time\"]))\n",
    "plt.show()"
   ]
  },
  {
   "cell_type": "code",
   "execution_count": 15,
   "id": "5d67152e",
   "metadata": {},
   "outputs": [],
   "source": [
    "train[\"next_arrive_time_log1p\"] = np.log1p(train[\"next_arrive_time\"])"
   ]
  },
  {
   "cell_type": "code",
   "execution_count": 16,
   "id": "b6febc0c",
   "metadata": {},
   "outputs": [
    {
     "data": {
      "image/png": "[encoded data removed]",
      "text/plain": [
       "<Figure size 1200x300 with 2 Axes>"
      ]
     },
     "metadata": {},
     "output_type": "display_data"
    }
   ],
   "source": [
    "train[[\"next_arrive_time\", \"next_arrive_time_log1p\"]].hist(figsize=(12,3), bins=100)\n",
    "plt.show()"
   ]
  },
  {
   "cell_type": "markdown",
   "id": "601be635",
   "metadata": {},
   "source": [
    "## 결측치, 상관관계"
   ]
  },
  {
   "cell_type": "code",
   "execution_count": 17,
   "id": "bc41bc01",
   "metadata": {},
   "outputs": [
    {
     "data": {
      "text/plain": [
       "date                      0\n",
       "route_id                  0\n",
       "vh_id                     0\n",
       "route_nm                  0\n",
       "now_latitude              0\n",
       "now_longitude             0\n",
       "now_station               0\n",
       "now_arrive_time           0\n",
       "distance                  0\n",
       "next_station              0\n",
       "next_latitude             0\n",
       "next_longitude            0\n",
       "next_arrive_time          0\n",
       "next_arrive_time_log1p    0\n",
       "dtype: int64"
      ]
     },
     "execution_count": 17,
     "metadata": {},
     "output_type": "execute_result"
    }
   ],
   "source": [
    "train.isnull().sum()"
   ]
  },
  {
   "cell_type": "code",
   "execution_count": 18,
   "id": "44dc7005",
   "metadata": {},
   "outputs": [
    {
     "data": {
      "text/plain": [
       "date               0\n",
       "route_id           0\n",
       "vh_id              0\n",
       "route_nm           0\n",
       "now_latitude       0\n",
       "now_longitude      0\n",
       "now_station        0\n",
       "now_arrive_time    0\n",
       "distance           0\n",
       "next_station       0\n",
       "next_latitude      0\n",
       "next_longitude     0\n",
       "dtype: int64"
      ]
     },
     "execution_count": 18,
     "metadata": {},
     "output_type": "execute_result"
    }
   ],
   "source": [
    "test.isnull().sum()"
   ]
  },
  {
   "cell_type": "code",
   "execution_count": 19,
   "id": "440343d8",
   "metadata": {},
   "outputs": [
    {
     "data": {
      "text/html": [
       "<div>\n",
       "<style scoped>\n",
       "    .dataframe tbody tr th:only-of-type {\n",
       "        vertical-align: middle;\n",
       "    }\n",
       "\n",
       "    .dataframe tbody tr th {\n",
       "        vertical-align: top;\n",
       "    }\n",
       "\n",
       "    .dataframe thead th {\n",
       "        text-align: right;\n",
       "    }\n",
       "</style>\n",
       "<table border=\"1\" class=\"dataframe\">\n",
       "  <thead>\n",
       "    <tr style=\"text-align: right;\">\n",
       "      <th></th>\n",
       "      <th>route_id</th>\n",
       "      <th>vh_id</th>\n",
       "      <th>now_latitude</th>\n",
       "      <th>now_longitude</th>\n",
       "      <th>distance</th>\n",
       "      <th>next_latitude</th>\n",
       "      <th>next_longitude</th>\n",
       "      <th>next_arrive_time</th>\n",
       "      <th>next_arrive_time_log1p</th>\n",
       "    </tr>\n",
       "  </thead>\n",
       "  <tbody>\n",
       "    <tr>\n",
       "      <th>route_id</th>\n",
       "      <td>1.000000</td>\n",
       "      <td>-0.998641</td>\n",
       "      <td>-0.432923</td>\n",
       "      <td>0.555106</td>\n",
       "      <td>0.104704</td>\n",
       "      <td>-0.431895</td>\n",
       "      <td>0.552970</td>\n",
       "      <td>-0.157622</td>\n",
       "      <td>-0.229760</td>\n",
       "    </tr>\n",
       "    <tr>\n",
       "      <th>vh_id</th>\n",
       "      <td>-0.998641</td>\n",
       "      <td>1.000000</td>\n",
       "      <td>0.421832</td>\n",
       "      <td>-0.579469</td>\n",
       "      <td>-0.098819</td>\n",
       "      <td>0.420799</td>\n",
       "      <td>-0.577379</td>\n",
       "      <td>0.161960</td>\n",
       "      <td>0.235549</td>\n",
       "    </tr>\n",
       "    <tr>\n",
       "      <th>now_latitude</th>\n",
       "      <td>-0.432923</td>\n",
       "      <td>0.421832</td>\n",
       "      <td>1.000000</td>\n",
       "      <td>-0.083973</td>\n",
       "      <td>-0.034868</td>\n",
       "      <td>0.998971</td>\n",
       "      <td>-0.085858</td>\n",
       "      <td>0.101329</td>\n",
       "      <td>0.168542</td>\n",
       "    </tr>\n",
       "    <tr>\n",
       "      <th>now_longitude</th>\n",
       "      <td>0.555106</td>\n",
       "      <td>-0.579469</td>\n",
       "      <td>-0.083973</td>\n",
       "      <td>1.000000</td>\n",
       "      <td>0.094554</td>\n",
       "      <td>-0.082066</td>\n",
       "      <td>0.999531</td>\n",
       "      <td>-0.115282</td>\n",
       "      <td>-0.169114</td>\n",
       "    </tr>\n",
       "    <tr>\n",
       "      <th>distance</th>\n",
       "      <td>0.104704</td>\n",
       "      <td>-0.098819</td>\n",
       "      <td>-0.034868</td>\n",
       "      <td>0.094554</td>\n",
       "      <td>1.000000</td>\n",
       "      <td>-0.031449</td>\n",
       "      <td>0.094033</td>\n",
       "      <td>0.437166</td>\n",
       "      <td>0.423404</td>\n",
       "    </tr>\n",
       "    <tr>\n",
       "      <th>next_latitude</th>\n",
       "      <td>-0.431895</td>\n",
       "      <td>0.420799</td>\n",
       "      <td>0.998971</td>\n",
       "      <td>-0.082066</td>\n",
       "      <td>-0.031449</td>\n",
       "      <td>1.000000</td>\n",
       "      <td>-0.083894</td>\n",
       "      <td>0.103378</td>\n",
       "      <td>0.170108</td>\n",
       "    </tr>\n",
       "    <tr>\n",
       "      <th>next_longitude</th>\n",
       "      <td>0.552970</td>\n",
       "      <td>-0.577379</td>\n",
       "      <td>-0.085858</td>\n",
       "      <td>0.999531</td>\n",
       "      <td>0.094033</td>\n",
       "      <td>-0.083894</td>\n",
       "      <td>1.000000</td>\n",
       "      <td>-0.115154</td>\n",
       "      <td>-0.169055</td>\n",
       "    </tr>\n",
       "    <tr>\n",
       "      <th>next_arrive_time</th>\n",
       "      <td>-0.157622</td>\n",
       "      <td>0.161960</td>\n",
       "      <td>0.101329</td>\n",
       "      <td>-0.115282</td>\n",
       "      <td>0.437166</td>\n",
       "      <td>0.103378</td>\n",
       "      <td>-0.115154</td>\n",
       "      <td>1.000000</td>\n",
       "      <td>0.770045</td>\n",
       "    </tr>\n",
       "    <tr>\n",
       "      <th>next_arrive_time_log1p</th>\n",
       "      <td>-0.229760</td>\n",
       "      <td>0.235549</td>\n",
       "      <td>0.168542</td>\n",
       "      <td>-0.169114</td>\n",
       "      <td>0.423404</td>\n",
       "      <td>0.170108</td>\n",
       "      <td>-0.169055</td>\n",
       "      <td>0.770045</td>\n",
       "      <td>1.000000</td>\n",
       "    </tr>\n",
       "  </tbody>\n",
       "</table>\n",
       "</div>"
      ],
      "text/plain": [
       "                        route_id     vh_id  now_latitude  now_longitude  \\\n",
       "route_id                1.000000 -0.998641     -0.432923       0.555106   \n",
       "vh_id                  -0.998641  1.000000      0.421832      -0.579469   \n",
       "now_latitude           -0.432923  0.421832      1.000000      -0.083973   \n",
       "now_longitude           0.555106 -0.579469     -0.083973       1.000000   \n",
       "distance                0.104704 -0.098819     -0.034868       0.094554   \n",
       "next_latitude          -0.431895  0.420799      0.998971      -0.082066   \n",
       "next_longitude          0.552970 -0.577379     -0.085858       0.999531   \n",
       "next_arrive_time       -0.157622  0.161960      0.101329      -0.115282   \n",
       "next_arrive_time_log1p -0.229760  0.235549      0.168542      -0.169114   \n",
       "\n",
       "                        distance  next_latitude  next_longitude  \\\n",
       "route_id                0.104704      -0.431895        0.552970   \n",
       "vh_id                  -0.098819       0.420799       -0.577379   \n",
       "now_latitude           -0.034868       0.998971       -0.085858   \n",
       "now_longitude           0.094554      -0.082066        0.999531   \n",
       "distance                1.000000      -0.031449        0.094033   \n",
       "next_latitude          -0.031449       1.000000       -0.083894   \n",
       "next_longitude          0.094033      -0.083894        1.000000   \n",
       "next_arrive_time        0.437166       0.103378       -0.115154   \n",
       "next_arrive_time_log1p  0.423404       0.170108       -0.169055   \n",
       "\n",
       "                        next_arrive_time  next_arrive_time_log1p  \n",
       "route_id                       -0.157622               -0.229760  \n",
       "vh_id                           0.161960                0.235549  \n",
       "now_latitude                    0.101329                0.168542  \n",
       "now_longitude                  -0.115282               -0.169114  \n",
       "distance                        0.437166                0.423404  \n",
       "next_latitude                   0.103378                0.170108  \n",
       "next_longitude                 -0.115154               -0.169055  \n",
       "next_arrive_time                1.000000                0.770045  \n",
       "next_arrive_time_log1p          0.770045                1.000000  "
      ]
     },
     "execution_count": 19,
     "metadata": {},
     "output_type": "execute_result"
    }
   ],
   "source": [
    "# next_arrive_time이랑 상관관계가 높은게 별로 없는데..?\n",
    "train.corr()"
   ]
  },
  {
   "cell_type": "code",
   "execution_count": null,
   "id": "59d35454",
   "metadata": {},
   "outputs": [],
   "source": [
    "# sns.pairplot(train, corner=True)\n",
    "# plt.show()"
   ]
  },
  {
   "cell_type": "markdown",
   "id": "3e9e1e1e",
   "metadata": {},
   "source": [
    "## 인코딩"
   ]
  },
  {
   "cell_type": "code",
   "execution_count": 21,
   "id": "ee902374",
   "metadata": {},
   "outputs": [],
   "source": [
    "train[\"bus_group\"]=\"group\"\n",
    "\n",
    "train.loc[(train[\"route_nm\"].str.contains(\"360\")), [\"bus_group\"]]=\"360\"\n",
    "train.loc[(train[\"route_nm\"].str.contains(\"365\")), [\"bus_group\"]]=\"365\"\n",
    "train.loc[(train[\"route_nm\"].str.contains(\"201\")), [\"bus_group\"]]=\"201\"\n",
    "train.loc[(train[\"route_nm\"].str.contains(\"281\")), [\"bus_group\"]]=\"281\""
   ]
  },
  {
   "cell_type": "code",
   "execution_count": 22,
   "id": "de659d31",
   "metadata": {},
   "outputs": [
    {
     "data": {
      "text/plain": [
       "id\n",
       "0         360\n",
       "1         360\n",
       "2         360\n",
       "3         360\n",
       "4         360\n",
       "         ... \n",
       "210452    281\n",
       "210453    281\n",
       "210454    281\n",
       "210455    281\n",
       "210456    281\n",
       "Name: bus_group, Length: 210457, dtype: object"
      ]
     },
     "execution_count": 22,
     "metadata": {},
     "output_type": "execute_result"
    }
   ],
   "source": [
    "train[\"bus_group\"]"
   ]
  },
  {
   "cell_type": "code",
   "execution_count": 23,
   "id": "c21518f2",
   "metadata": {},
   "outputs": [],
   "source": [
    "train = pd.get_dummies(train, columns=[\"bus_group\"])"
   ]
  },
  {
   "cell_type": "code",
   "execution_count": 24,
   "id": "66dff1d2",
   "metadata": {},
   "outputs": [],
   "source": [
    "test[\"bus_group\"]=\"group\"\n",
    "\n",
    "test.loc[(test[\"route_nm\"].str.contains(\"360\")), [\"bus_group\"]]=\"360\"\n",
    "test.loc[(test[\"route_nm\"].str.contains(\"365\")), [\"bus_group\"]]=\"365\"\n",
    "test.loc[(test[\"route_nm\"].str.contains(\"201\")), [\"bus_group\"]]=\"201\"\n",
    "test.loc[(test[\"route_nm\"].str.contains(\"281\")), [\"bus_group\"]]=\"281\"\n",
    "\n",
    "test = pd.get_dummies(test, columns=[\"bus_group\"])"
   ]
  },
  {
   "cell_type": "code",
   "execution_count": 25,
   "id": "20f100e3",
   "metadata": {},
   "outputs": [
    {
     "data": {
      "text/plain": [
       "id\n",
       "0   2019-10-15\n",
       "1   2019-10-15\n",
       "2   2019-10-15\n",
       "3   2019-10-15\n",
       "4   2019-10-15\n",
       "Name: date, dtype: datetime64[ns]"
      ]
     },
     "execution_count": 25,
     "metadata": {},
     "output_type": "execute_result"
    }
   ],
   "source": [
    "train[\"date\"] = pd.to_datetime(train[\"date\"])\n",
    "train[\"date\"].head()"
   ]
  },
  {
   "cell_type": "code",
   "execution_count": 26,
   "id": "59204327",
   "metadata": {},
   "outputs": [
    {
     "data": {
      "text/plain": [
       "id\n",
       "210457   2019-10-29\n",
       "210458   2019-10-29\n",
       "210459   2019-10-29\n",
       "210460   2019-10-29\n",
       "210461   2019-10-29\n",
       "Name: date, dtype: datetime64[ns]"
      ]
     },
     "execution_count": 26,
     "metadata": {},
     "output_type": "execute_result"
    }
   ],
   "source": [
    "test[\"date\"] = pd.to_datetime(test[\"date\"])\n",
    "test[\"date\"].head()"
   ]
  },
  {
   "cell_type": "code",
   "execution_count": 27,
   "id": "9dfef0d1",
   "metadata": {},
   "outputs": [
    {
     "data": {
      "text/plain": [
       "id\n",
       "0    1\n",
       "1    1\n",
       "2    1\n",
       "3    1\n",
       "4    1\n",
       "Name: weekday, dtype: int64"
      ]
     },
     "execution_count": 27,
     "metadata": {},
     "output_type": "execute_result"
    }
   ],
   "source": [
    "train[\"weekday\"]=train[\"date\"].dt.weekday\n",
    "train[\"weekday\"].head()"
   ]
  },
  {
   "cell_type": "code",
   "execution_count": 28,
   "id": "af843a0b",
   "metadata": {},
   "outputs": [],
   "source": [
    "train = pd.get_dummies(train, columns=[\"weekday\"])"
   ]
  },
  {
   "cell_type": "code",
   "execution_count": 29,
   "id": "0ac715dd",
   "metadata": {},
   "outputs": [],
   "source": [
    "test[\"weekday\"] = test[\"date\"].dt.weekday\n",
    "test = pd.get_dummies(test, columns=[\"weekday\"])"
   ]
  },
  {
   "cell_type": "code",
   "execution_count": 30,
   "id": "e8b96253",
   "metadata": {},
   "outputs": [
    {
     "data": {
      "text/plain": [
       "id\n",
       "0         06시\n",
       "1         06시\n",
       "2         06시\n",
       "3         06시\n",
       "4         07시\n",
       "         ... \n",
       "210452    21시\n",
       "210453    21시\n",
       "210454    21시\n",
       "210455    21시\n",
       "210456    21시\n",
       "Name: now_arrive_time, Length: 210457, dtype: object"
      ]
     },
     "execution_count": 30,
     "metadata": {},
     "output_type": "execute_result"
    }
   ],
   "source": [
    "train[\"now_arrive_time\"]"
   ]
  },
  {
   "cell_type": "code",
   "execution_count": null,
   "id": "52d8f71d",
   "metadata": {},
   "outputs": [],
   "source": [
    "# df_train['time_group']='group' #time_group 변수를 미리 생성\n",
    "\n",
    "# df_train.loc[ (df_train['now_arrive_time']&gt;='05시') & (df_train['now_arrive_time']&lt;'07시') ,['time_group'] ]= 'morning_1' # 5~6시\n",
    "# df_train.loc[ (df_train['now_arrive_time']&gt;='07시') & (df_train['now_arrive_time']&lt;'09시') ,['time_group'] ]= 'morning_2' # 7~8시\n",
    "# df_train.loc[ (df_train['now_arrive_time']&gt;='09시') & (df_train['now_arrive_time']&lt;'11시') ,['time_group'] ]= 'afternoon_1' # 9~10시\n",
    "# df_train.loc[ (df_train['now_arrive_time']&gt;='11시') & (df_train['now_arrive_time']&lt;'13시') ,['time_group'] ]= 'afternoon_2' # 11~12시\n",
    "# df_train.loc[ (df_train['now_arrive_time']&gt;='13시') & (df_train['now_arrive_time']&lt;'15시') ,['time_group'] ]= 'afternoon_3' #13~14시\n",
    "# df_train.loc[ (df_train['now_arrive_time']&gt;='15시') & (df_train['now_arrive_time']&lt;'17시') ,['time_group'] ]= 'evening_1' #15~16시\n",
    "# df_train.loc[ (df_train['now_arrive_time']&gt;='17시') & (df_train['now_arrive_time']&lt;'19시') ,['time_group'] ]= 'evening_2' #17~18시\n",
    "# df_train.loc[ (df_train['now_arrive_time']&gt;='19시') & (df_train['now_arrive_time']&lt;'21시'),['time_group'] ]= 'evening_3' #19~20시\n",
    "# df_train.loc[ (df_train['now_arrive_time']&gt;='21시') & (df_train['now_arrive_time']&lt;'23시'),['time_group'] ]= 'night_1' #21~22시\n",
    "# df_train.loc[ (df_train['now_arrive_time']&gt;='23시') | (df_train['now_arrive_time']=='00시'),['time_group'] ]= 'night_2' #23~00시\n",
    "\n",
    "# df_train = pd.get_dummies(df_train,columns=['time_group'])"
   ]
  },
  {
   "cell_type": "markdown",
   "id": "4724bf82",
   "metadata": {},
   "source": [
    "## feature, label"
   ]
  },
  {
   "cell_type": "code",
   "execution_count": 31,
   "id": "61e5c120",
   "metadata": {},
   "outputs": [
    {
     "data": {
      "text/plain": [
       "'next_arrive_time_log1p'"
      ]
     },
     "execution_count": 31,
     "metadata": {},
     "output_type": "execute_result"
    }
   ],
   "source": [
    "label_name = \"next_arrive_time_log1p\"\n",
    "label_name"
   ]
  },
  {
   "cell_type": "code",
   "execution_count": 32,
   "id": "933225bb",
   "metadata": {},
   "outputs": [
    {
     "data": {
      "text/plain": [
       "Index(['date', 'route_id', 'vh_id', 'route_nm', 'now_latitude',\n",
       "       'now_longitude', 'now_station', 'now_arrive_time', 'distance',\n",
       "       'next_station', 'next_latitude', 'next_longitude', 'next_arrive_time',\n",
       "       'next_arrive_time_log1p', 'bus_group_201', 'bus_group_281',\n",
       "       'bus_group_360', 'bus_group_365', 'weekday_0', 'weekday_1', 'weekday_2',\n",
       "       'weekday_3', 'weekday_4', 'weekday_5', 'weekday_6'],\n",
       "      dtype='object')"
      ]
     },
     "execution_count": 32,
     "metadata": {},
     "output_type": "execute_result"
    }
   ],
   "source": [
    "train.columns"
   ]
  },
  {
   "cell_type": "code",
   "execution_count": 33,
   "id": "6ebd6cc3",
   "metadata": {},
   "outputs": [
    {
     "name": "stdout",
     "output_type": "stream",
     "text": [
      "<class 'pandas.core.frame.DataFrame'>\n",
      "Int64Index: 210457 entries, 0 to 210456\n",
      "Data columns (total 25 columns):\n",
      " #   Column                  Non-Null Count   Dtype         \n",
      "---  ------                  --------------   -----         \n",
      " 0   date                    210457 non-null  datetime64[ns]\n",
      " 1   route_id                210457 non-null  int64         \n",
      " 2   vh_id                   210457 non-null  int64         \n",
      " 3   route_nm                210457 non-null  object        \n",
      " 4   now_latitude            210457 non-null  float64       \n",
      " 5   now_longitude           210457 non-null  float64       \n",
      " 6   now_station             210457 non-null  object        \n",
      " 7   now_arrive_time         210457 non-null  object        \n",
      " 8   distance                210457 non-null  float64       \n",
      " 9   next_station            210457 non-null  object        \n",
      " 10  next_latitude           210457 non-null  float64       \n",
      " 11  next_longitude          210457 non-null  float64       \n",
      " 12  next_arrive_time        210457 non-null  int64         \n",
      " 13  next_arrive_time_log1p  210457 non-null  float64       \n",
      " 14  bus_group_201           210457 non-null  uint8         \n",
      " 15  bus_group_281           210457 non-null  uint8         \n",
      " 16  bus_group_360           210457 non-null  uint8         \n",
      " 17  bus_group_365           210457 non-null  uint8         \n",
      " 18  weekday_0               210457 non-null  uint8         \n",
      " 19  weekday_1               210457 non-null  uint8         \n",
      " 20  weekday_2               210457 non-null  uint8         \n",
      " 21  weekday_3               210457 non-null  uint8         \n",
      " 22  weekday_4               210457 non-null  uint8         \n",
      " 23  weekday_5               210457 non-null  uint8         \n",
      " 24  weekday_6               210457 non-null  uint8         \n",
      "dtypes: datetime64[ns](1), float64(6), int64(3), object(4), uint8(11)\n",
      "memory usage: 34.4+ MB\n"
     ]
    }
   ],
   "source": [
    "train.info()"
   ]
  },
  {
   "cell_type": "code",
   "execution_count": 35,
   "id": "20db39a1",
   "metadata": {
    "collapsed": true
   },
   "outputs": [
    {
     "ename": "AttributeError",
     "evalue": "Can only use .str accessor with string values!",
     "output_type": "error",
     "traceback": [
      "\u001b[1;31m---------------------------------------------------------------------------\u001b[0m",
      "\u001b[1;31mAttributeError\u001b[0m                            Traceback (most recent call last)",
      "\u001b[1;32m~\\AppData\\Local\\Temp\\ipykernel_3840\\3000808552.py\u001b[0m in \u001b[0;36m<module>\u001b[1;34m\u001b[0m\n\u001b[1;32m----> 1\u001b[1;33m \u001b[0mtrain\u001b[0m\u001b[1;33m[\u001b[0m\u001b[1;34m\"now_arrive_time\"\u001b[0m\u001b[1;33m]\u001b[0m \u001b[1;33m=\u001b[0m \u001b[0mtrain\u001b[0m\u001b[1;33m[\u001b[0m\u001b[1;34m\"now_arrive_time\"\u001b[0m\u001b[1;33m]\u001b[0m\u001b[1;33m.\u001b[0m\u001b[0mstr\u001b[0m\u001b[1;33m[\u001b[0m\u001b[1;33m:\u001b[0m\u001b[1;36m2\u001b[0m\u001b[1;33m]\u001b[0m\u001b[1;33m\u001b[0m\u001b[1;33m\u001b[0m\u001b[0m\n\u001b[0m\u001b[0;32m      2\u001b[0m \u001b[0mtest\u001b[0m\u001b[1;33m[\u001b[0m\u001b[1;34m\"now_arrive_time\"\u001b[0m\u001b[1;33m]\u001b[0m \u001b[1;33m=\u001b[0m \u001b[0mtest\u001b[0m\u001b[1;33m[\u001b[0m\u001b[1;34m\"now_arrive_time\"\u001b[0m\u001b[1;33m]\u001b[0m\u001b[1;33m.\u001b[0m\u001b[0mstr\u001b[0m\u001b[1;33m[\u001b[0m\u001b[1;33m:\u001b[0m\u001b[1;36m2\u001b[0m\u001b[1;33m]\u001b[0m\u001b[1;33m\u001b[0m\u001b[1;33m\u001b[0m\u001b[0m\n\u001b[0;32m      3\u001b[0m \u001b[0mtrain\u001b[0m\u001b[1;33m[\u001b[0m\u001b[1;34m\"now_arrive_time\"\u001b[0m\u001b[1;33m]\u001b[0m \u001b[1;33m=\u001b[0m \u001b[0mtrain\u001b[0m\u001b[1;33m[\u001b[0m\u001b[1;34m\"now_arrive_time\"\u001b[0m\u001b[1;33m]\u001b[0m\u001b[1;33m.\u001b[0m\u001b[0mastype\u001b[0m\u001b[1;33m(\u001b[0m\u001b[1;34m\"int\"\u001b[0m\u001b[1;33m)\u001b[0m\u001b[1;33m\u001b[0m\u001b[1;33m\u001b[0m\u001b[0m\n\u001b[0;32m      4\u001b[0m \u001b[0mtest\u001b[0m\u001b[1;33m[\u001b[0m\u001b[1;34m\"now_arrive_time\"\u001b[0m\u001b[1;33m]\u001b[0m \u001b[1;33m=\u001b[0m \u001b[0mtest\u001b[0m\u001b[1;33m[\u001b[0m\u001b[1;34m\"now_arrive_time\"\u001b[0m\u001b[1;33m]\u001b[0m\u001b[1;33m.\u001b[0m\u001b[0mastype\u001b[0m\u001b[1;33m(\u001b[0m\u001b[1;34m\"int\"\u001b[0m\u001b[1;33m)\u001b[0m\u001b[1;33m\u001b[0m\u001b[1;33m\u001b[0m\u001b[0m\n",
      "\u001b[1;32m~\\anaconda3\\lib\\site-packages\\pandas\\core\\generic.py\u001b[0m in \u001b[0;36m__getattr__\u001b[1;34m(self, name)\u001b[0m\n\u001b[0;32m   5573\u001b[0m         ):\n\u001b[0;32m   5574\u001b[0m             \u001b[1;32mreturn\u001b[0m \u001b[0mself\u001b[0m\u001b[1;33m[\u001b[0m\u001b[0mname\u001b[0m\u001b[1;33m]\u001b[0m\u001b[1;33m\u001b[0m\u001b[1;33m\u001b[0m\u001b[0m\n\u001b[1;32m-> 5575\u001b[1;33m         \u001b[1;32mreturn\u001b[0m \u001b[0mobject\u001b[0m\u001b[1;33m.\u001b[0m\u001b[0m__getattribute__\u001b[0m\u001b[1;33m(\u001b[0m\u001b[0mself\u001b[0m\u001b[1;33m,\u001b[0m \u001b[0mname\u001b[0m\u001b[1;33m)\u001b[0m\u001b[1;33m\u001b[0m\u001b[1;33m\u001b[0m\u001b[0m\n\u001b[0m\u001b[0;32m   5576\u001b[0m \u001b[1;33m\u001b[0m\u001b[0m\n\u001b[0;32m   5577\u001b[0m     \u001b[1;32mdef\u001b[0m \u001b[0m__setattr__\u001b[0m\u001b[1;33m(\u001b[0m\u001b[0mself\u001b[0m\u001b[1;33m,\u001b[0m \u001b[0mname\u001b[0m\u001b[1;33m:\u001b[0m \u001b[0mstr\u001b[0m\u001b[1;33m,\u001b[0m \u001b[0mvalue\u001b[0m\u001b[1;33m)\u001b[0m \u001b[1;33m->\u001b[0m \u001b[1;32mNone\u001b[0m\u001b[1;33m:\u001b[0m\u001b[1;33m\u001b[0m\u001b[1;33m\u001b[0m\u001b[0m\n",
      "\u001b[1;32m~\\anaconda3\\lib\\site-packages\\pandas\\core\\accessor.py\u001b[0m in \u001b[0;36m__get__\u001b[1;34m(self, obj, cls)\u001b[0m\n\u001b[0;32m    180\u001b[0m             \u001b[1;31m# we're accessing the attribute of the class, i.e., Dataset.geo\u001b[0m\u001b[1;33m\u001b[0m\u001b[1;33m\u001b[0m\u001b[0m\n\u001b[0;32m    181\u001b[0m             \u001b[1;32mreturn\u001b[0m \u001b[0mself\u001b[0m\u001b[1;33m.\u001b[0m\u001b[0m_accessor\u001b[0m\u001b[1;33m\u001b[0m\u001b[1;33m\u001b[0m\u001b[0m\n\u001b[1;32m--> 182\u001b[1;33m         \u001b[0maccessor_obj\u001b[0m \u001b[1;33m=\u001b[0m \u001b[0mself\u001b[0m\u001b[1;33m.\u001b[0m\u001b[0m_accessor\u001b[0m\u001b[1;33m(\u001b[0m\u001b[0mobj\u001b[0m\u001b[1;33m)\u001b[0m\u001b[1;33m\u001b[0m\u001b[1;33m\u001b[0m\u001b[0m\n\u001b[0m\u001b[0;32m    183\u001b[0m         \u001b[1;31m# Replace the property with the accessor object. Inspired by:\u001b[0m\u001b[1;33m\u001b[0m\u001b[1;33m\u001b[0m\u001b[0m\n\u001b[0;32m    184\u001b[0m         \u001b[1;31m# https://www.pydanny.com/cached-property.html\u001b[0m\u001b[1;33m\u001b[0m\u001b[1;33m\u001b[0m\u001b[0m\n",
      "\u001b[1;32m~\\anaconda3\\lib\\site-packages\\pandas\\core\\strings\\accessor.py\u001b[0m in \u001b[0;36m__init__\u001b[1;34m(self, data)\u001b[0m\n\u001b[0;32m    175\u001b[0m         \u001b[1;32mfrom\u001b[0m \u001b[0mpandas\u001b[0m\u001b[1;33m.\u001b[0m\u001b[0mcore\u001b[0m\u001b[1;33m.\u001b[0m\u001b[0marrays\u001b[0m\u001b[1;33m.\u001b[0m\u001b[0mstring_\u001b[0m \u001b[1;32mimport\u001b[0m \u001b[0mStringDtype\u001b[0m\u001b[1;33m\u001b[0m\u001b[1;33m\u001b[0m\u001b[0m\n\u001b[0;32m    176\u001b[0m \u001b[1;33m\u001b[0m\u001b[0m\n\u001b[1;32m--> 177\u001b[1;33m         \u001b[0mself\u001b[0m\u001b[1;33m.\u001b[0m\u001b[0m_inferred_dtype\u001b[0m \u001b[1;33m=\u001b[0m \u001b[0mself\u001b[0m\u001b[1;33m.\u001b[0m\u001b[0m_validate\u001b[0m\u001b[1;33m(\u001b[0m\u001b[0mdata\u001b[0m\u001b[1;33m)\u001b[0m\u001b[1;33m\u001b[0m\u001b[1;33m\u001b[0m\u001b[0m\n\u001b[0m\u001b[0;32m    178\u001b[0m         \u001b[0mself\u001b[0m\u001b[1;33m.\u001b[0m\u001b[0m_is_categorical\u001b[0m \u001b[1;33m=\u001b[0m \u001b[0mis_categorical_dtype\u001b[0m\u001b[1;33m(\u001b[0m\u001b[0mdata\u001b[0m\u001b[1;33m.\u001b[0m\u001b[0mdtype\u001b[0m\u001b[1;33m)\u001b[0m\u001b[1;33m\u001b[0m\u001b[1;33m\u001b[0m\u001b[0m\n\u001b[0;32m    179\u001b[0m         \u001b[0mself\u001b[0m\u001b[1;33m.\u001b[0m\u001b[0m_is_string\u001b[0m \u001b[1;33m=\u001b[0m \u001b[0misinstance\u001b[0m\u001b[1;33m(\u001b[0m\u001b[0mdata\u001b[0m\u001b[1;33m.\u001b[0m\u001b[0mdtype\u001b[0m\u001b[1;33m,\u001b[0m \u001b[0mStringDtype\u001b[0m\u001b[1;33m)\u001b[0m\u001b[1;33m\u001b[0m\u001b[1;33m\u001b[0m\u001b[0m\n",
      "\u001b[1;32m~\\anaconda3\\lib\\site-packages\\pandas\\core\\strings\\accessor.py\u001b[0m in \u001b[0;36m_validate\u001b[1;34m(data)\u001b[0m\n\u001b[0;32m    229\u001b[0m \u001b[1;33m\u001b[0m\u001b[0m\n\u001b[0;32m    230\u001b[0m         \u001b[1;32mif\u001b[0m \u001b[0minferred_dtype\u001b[0m \u001b[1;32mnot\u001b[0m \u001b[1;32min\u001b[0m \u001b[0mallowed_types\u001b[0m\u001b[1;33m:\u001b[0m\u001b[1;33m\u001b[0m\u001b[1;33m\u001b[0m\u001b[0m\n\u001b[1;32m--> 231\u001b[1;33m             \u001b[1;32mraise\u001b[0m \u001b[0mAttributeError\u001b[0m\u001b[1;33m(\u001b[0m\u001b[1;34m\"Can only use .str accessor with string values!\"\u001b[0m\u001b[1;33m)\u001b[0m\u001b[1;33m\u001b[0m\u001b[1;33m\u001b[0m\u001b[0m\n\u001b[0m\u001b[0;32m    232\u001b[0m         \u001b[1;32mreturn\u001b[0m \u001b[0minferred_dtype\u001b[0m\u001b[1;33m\u001b[0m\u001b[1;33m\u001b[0m\u001b[0m\n\u001b[0;32m    233\u001b[0m \u001b[1;33m\u001b[0m\u001b[0m\n",
      "\u001b[1;31mAttributeError\u001b[0m: Can only use .str accessor with string values!"
     ]
    }
   ],
   "source": [
    "train[\"now_arrive_time\"] = train[\"now_arrive_time\"].str[:2]\n",
    "test[\"now_arrive_time\"] = test[\"now_arrive_time\"].str[:2]\n",
    "train[\"now_arrive_time\"] = train[\"now_arrive_time\"].astype(\"int\")\n",
    "test[\"now_arrive_time\"] = test[\"now_arrive_time\"].astype(\"int\")"
   ]
  },
  {
   "cell_type": "code",
   "execution_count": 36,
   "id": "0d676024",
   "metadata": {},
   "outputs": [],
   "source": [
    "feature_names = ['route_id', 'now_arrive_time', 'distance',\n",
    "       'next_latitude', 'next_longitude', \n",
    "       'bus_group_201', 'bus_group_281', 'bus_group_360', 'bus_group_365',\n",
    "       'weekday_0', 'weekday_1', 'weekday_2',\n",
    "       'weekday_3', 'weekday_4', 'weekday_5', 'weekday_6']"
   ]
  },
  {
   "cell_type": "code",
   "execution_count": 37,
   "id": "30a7f64f",
   "metadata": {},
   "outputs": [
    {
     "data": {
      "text/plain": [
       "((210457, 25), (91774, 23))"
      ]
     },
     "execution_count": 37,
     "metadata": {},
     "output_type": "execute_result"
    }
   ],
   "source": [
    "train.shape, test.shape"
   ]
  },
  {
   "cell_type": "code",
   "execution_count": 41,
   "id": "919c69e5",
   "metadata": {},
   "outputs": [
    {
     "name": "stdout",
     "output_type": "stream",
     "text": [
      "(210457, 16)\n"
     ]
    },
    {
     "data": {
      "text/html": [
       "<div>\n",
       "<style scoped>\n",
       "    .dataframe tbody tr th:only-of-type {\n",
       "        vertical-align: middle;\n",
       "    }\n",
       "\n",
       "    .dataframe tbody tr th {\n",
       "        vertical-align: top;\n",
       "    }\n",
       "\n",
       "    .dataframe thead th {\n",
       "        text-align: right;\n",
       "    }\n",
       "</style>\n",
       "<table border=\"1\" class=\"dataframe\">\n",
       "  <thead>\n",
       "    <tr style=\"text-align: right;\">\n",
       "      <th></th>\n",
       "      <th>route_id</th>\n",
       "      <th>now_arrive_time</th>\n",
       "      <th>distance</th>\n",
       "      <th>next_latitude</th>\n",
       "      <th>next_longitude</th>\n",
       "      <th>bus_group_201</th>\n",
       "      <th>bus_group_281</th>\n",
       "      <th>bus_group_360</th>\n",
       "      <th>bus_group_365</th>\n",
       "      <th>weekday_0</th>\n",
       "      <th>weekday_1</th>\n",
       "      <th>weekday_2</th>\n",
       "      <th>weekday_3</th>\n",
       "      <th>weekday_4</th>\n",
       "      <th>weekday_5</th>\n",
       "      <th>weekday_6</th>\n",
       "    </tr>\n",
       "    <tr>\n",
       "      <th>id</th>\n",
       "      <th></th>\n",
       "      <th></th>\n",
       "      <th></th>\n",
       "      <th></th>\n",
       "      <th></th>\n",
       "      <th></th>\n",
       "      <th></th>\n",
       "      <th></th>\n",
       "      <th></th>\n",
       "      <th></th>\n",
       "      <th></th>\n",
       "      <th></th>\n",
       "      <th></th>\n",
       "      <th></th>\n",
       "      <th></th>\n",
       "      <th></th>\n",
       "    </tr>\n",
       "  </thead>\n",
       "  <tbody>\n",
       "    <tr>\n",
       "      <th>0</th>\n",
       "      <td>405136001</td>\n",
       "      <td>6</td>\n",
       "      <td>266.0</td>\n",
       "      <td>33.457724</td>\n",
       "      <td>126.554014</td>\n",
       "      <td>0</td>\n",
       "      <td>0</td>\n",
       "      <td>1</td>\n",
       "      <td>0</td>\n",
       "      <td>0</td>\n",
       "      <td>1</td>\n",
       "      <td>0</td>\n",
       "      <td>0</td>\n",
       "      <td>0</td>\n",
       "      <td>0</td>\n",
       "      <td>0</td>\n",
       "    </tr>\n",
       "    <tr>\n",
       "      <th>1</th>\n",
       "      <td>405136001</td>\n",
       "      <td>6</td>\n",
       "      <td>333.0</td>\n",
       "      <td>33.458783</td>\n",
       "      <td>126.557353</td>\n",
       "      <td>0</td>\n",
       "      <td>0</td>\n",
       "      <td>1</td>\n",
       "      <td>0</td>\n",
       "      <td>0</td>\n",
       "      <td>1</td>\n",
       "      <td>0</td>\n",
       "      <td>0</td>\n",
       "      <td>0</td>\n",
       "      <td>0</td>\n",
       "      <td>0</td>\n",
       "    </tr>\n",
       "    <tr>\n",
       "      <th>2</th>\n",
       "      <td>405136001</td>\n",
       "      <td>6</td>\n",
       "      <td>415.0</td>\n",
       "      <td>33.459893</td>\n",
       "      <td>126.561624</td>\n",
       "      <td>0</td>\n",
       "      <td>0</td>\n",
       "      <td>1</td>\n",
       "      <td>0</td>\n",
       "      <td>0</td>\n",
       "      <td>1</td>\n",
       "      <td>0</td>\n",
       "      <td>0</td>\n",
       "      <td>0</td>\n",
       "      <td>0</td>\n",
       "      <td>0</td>\n",
       "    </tr>\n",
       "    <tr>\n",
       "      <th>3</th>\n",
       "      <td>405136001</td>\n",
       "      <td>6</td>\n",
       "      <td>578.0</td>\n",
       "      <td>33.484860</td>\n",
       "      <td>126.542928</td>\n",
       "      <td>0</td>\n",
       "      <td>0</td>\n",
       "      <td>1</td>\n",
       "      <td>0</td>\n",
       "      <td>0</td>\n",
       "      <td>1</td>\n",
       "      <td>0</td>\n",
       "      <td>0</td>\n",
       "      <td>0</td>\n",
       "      <td>0</td>\n",
       "      <td>0</td>\n",
       "    </tr>\n",
       "    <tr>\n",
       "      <th>4</th>\n",
       "      <td>405136001</td>\n",
       "      <td>7</td>\n",
       "      <td>374.0</td>\n",
       "      <td>33.485822</td>\n",
       "      <td>126.490897</td>\n",
       "      <td>0</td>\n",
       "      <td>0</td>\n",
       "      <td>1</td>\n",
       "      <td>0</td>\n",
       "      <td>0</td>\n",
       "      <td>1</td>\n",
       "      <td>0</td>\n",
       "      <td>0</td>\n",
       "      <td>0</td>\n",
       "      <td>0</td>\n",
       "      <td>0</td>\n",
       "    </tr>\n",
       "  </tbody>\n",
       "</table>\n",
       "</div>"
      ],
      "text/plain": [
       "     route_id  now_arrive_time  distance  next_latitude  next_longitude  \\\n",
       "id                                                                        \n",
       "0   405136001                6     266.0      33.457724      126.554014   \n",
       "1   405136001                6     333.0      33.458783      126.557353   \n",
       "2   405136001                6     415.0      33.459893      126.561624   \n",
       "3   405136001                6     578.0      33.484860      126.542928   \n",
       "4   405136001                7     374.0      33.485822      126.490897   \n",
       "\n",
       "    bus_group_201  bus_group_281  bus_group_360  bus_group_365  weekday_0  \\\n",
       "id                                                                          \n",
       "0               0              0              1              0          0   \n",
       "1               0              0              1              0          0   \n",
       "2               0              0              1              0          0   \n",
       "3               0              0              1              0          0   \n",
       "4               0              0              1              0          0   \n",
       "\n",
       "    weekday_1  weekday_2  weekday_3  weekday_4  weekday_5  weekday_6  \n",
       "id                                                                    \n",
       "0           1          0          0          0          0          0  \n",
       "1           1          0          0          0          0          0  \n",
       "2           1          0          0          0          0          0  \n",
       "3           1          0          0          0          0          0  \n",
       "4           1          0          0          0          0          0  "
      ]
     },
     "execution_count": 41,
     "metadata": {},
     "output_type": "execute_result"
    }
   ],
   "source": [
    "X_train = pd.get_dummies(train[feature_names])\n",
    "print(X_train.shape)\n",
    "X_train.head()"
   ]
  },
  {
   "cell_type": "code",
   "execution_count": 42,
   "id": "9c861cd0",
   "metadata": {},
   "outputs": [
    {
     "name": "stdout",
     "output_type": "stream",
     "text": [
      "(91774, 16)\n"
     ]
    },
    {
     "data": {
      "text/html": [
       "<div>\n",
       "<style scoped>\n",
       "    .dataframe tbody tr th:only-of-type {\n",
       "        vertical-align: middle;\n",
       "    }\n",
       "\n",
       "    .dataframe tbody tr th {\n",
       "        vertical-align: top;\n",
       "    }\n",
       "\n",
       "    .dataframe thead th {\n",
       "        text-align: right;\n",
       "    }\n",
       "</style>\n",
       "<table border=\"1\" class=\"dataframe\">\n",
       "  <thead>\n",
       "    <tr style=\"text-align: right;\">\n",
       "      <th></th>\n",
       "      <th>route_id</th>\n",
       "      <th>now_arrive_time</th>\n",
       "      <th>distance</th>\n",
       "      <th>next_latitude</th>\n",
       "      <th>next_longitude</th>\n",
       "      <th>bus_group_201</th>\n",
       "      <th>bus_group_281</th>\n",
       "      <th>bus_group_360</th>\n",
       "      <th>bus_group_365</th>\n",
       "      <th>weekday_0</th>\n",
       "      <th>weekday_1</th>\n",
       "      <th>weekday_2</th>\n",
       "      <th>weekday_3</th>\n",
       "      <th>weekday_4</th>\n",
       "      <th>weekday_5</th>\n",
       "      <th>weekday_6</th>\n",
       "    </tr>\n",
       "    <tr>\n",
       "      <th>id</th>\n",
       "      <th></th>\n",
       "      <th></th>\n",
       "      <th></th>\n",
       "      <th></th>\n",
       "      <th></th>\n",
       "      <th></th>\n",
       "      <th></th>\n",
       "      <th></th>\n",
       "      <th></th>\n",
       "      <th></th>\n",
       "      <th></th>\n",
       "      <th></th>\n",
       "      <th></th>\n",
       "      <th></th>\n",
       "      <th></th>\n",
       "      <th></th>\n",
       "    </tr>\n",
       "  </thead>\n",
       "  <tbody>\n",
       "    <tr>\n",
       "      <th>210457</th>\n",
       "      <td>405136001</td>\n",
       "      <td>7</td>\n",
       "      <td>333.0</td>\n",
       "      <td>33.458783</td>\n",
       "      <td>126.557353</td>\n",
       "      <td>0</td>\n",
       "      <td>0</td>\n",
       "      <td>1</td>\n",
       "      <td>0</td>\n",
       "      <td>0</td>\n",
       "      <td>1</td>\n",
       "      <td>0</td>\n",
       "      <td>0</td>\n",
       "      <td>0</td>\n",
       "      <td>0</td>\n",
       "      <td>0</td>\n",
       "    </tr>\n",
       "    <tr>\n",
       "      <th>210458</th>\n",
       "      <td>405136001</td>\n",
       "      <td>7</td>\n",
       "      <td>415.0</td>\n",
       "      <td>33.459893</td>\n",
       "      <td>126.561624</td>\n",
       "      <td>0</td>\n",
       "      <td>0</td>\n",
       "      <td>1</td>\n",
       "      <td>0</td>\n",
       "      <td>0</td>\n",
       "      <td>1</td>\n",
       "      <td>0</td>\n",
       "      <td>0</td>\n",
       "      <td>0</td>\n",
       "      <td>0</td>\n",
       "      <td>0</td>\n",
       "    </tr>\n",
       "    <tr>\n",
       "      <th>210459</th>\n",
       "      <td>405136001</td>\n",
       "      <td>8</td>\n",
       "      <td>417.0</td>\n",
       "      <td>33.478850</td>\n",
       "      <td>126.488350</td>\n",
       "      <td>0</td>\n",
       "      <td>0</td>\n",
       "      <td>1</td>\n",
       "      <td>0</td>\n",
       "      <td>0</td>\n",
       "      <td>1</td>\n",
       "      <td>0</td>\n",
       "      <td>0</td>\n",
       "      <td>0</td>\n",
       "      <td>0</td>\n",
       "      <td>0</td>\n",
       "    </tr>\n",
       "    <tr>\n",
       "      <th>210460</th>\n",
       "      <td>405136001</td>\n",
       "      <td>8</td>\n",
       "      <td>334.0</td>\n",
       "      <td>33.480700</td>\n",
       "      <td>126.489933</td>\n",
       "      <td>0</td>\n",
       "      <td>0</td>\n",
       "      <td>1</td>\n",
       "      <td>0</td>\n",
       "      <td>0</td>\n",
       "      <td>1</td>\n",
       "      <td>0</td>\n",
       "      <td>0</td>\n",
       "      <td>0</td>\n",
       "      <td>0</td>\n",
       "      <td>0</td>\n",
       "    </tr>\n",
       "    <tr>\n",
       "      <th>210461</th>\n",
       "      <td>405136001</td>\n",
       "      <td>8</td>\n",
       "      <td>550.0</td>\n",
       "      <td>33.482077</td>\n",
       "      <td>126.485355</td>\n",
       "      <td>0</td>\n",
       "      <td>0</td>\n",
       "      <td>1</td>\n",
       "      <td>0</td>\n",
       "      <td>0</td>\n",
       "      <td>1</td>\n",
       "      <td>0</td>\n",
       "      <td>0</td>\n",
       "      <td>0</td>\n",
       "      <td>0</td>\n",
       "      <td>0</td>\n",
       "    </tr>\n",
       "  </tbody>\n",
       "</table>\n",
       "</div>"
      ],
      "text/plain": [
       "         route_id  now_arrive_time  distance  next_latitude  next_longitude  \\\n",
       "id                                                                            \n",
       "210457  405136001                7     333.0      33.458783      126.557353   \n",
       "210458  405136001                7     415.0      33.459893      126.561624   \n",
       "210459  405136001                8     417.0      33.478850      126.488350   \n",
       "210460  405136001                8     334.0      33.480700      126.489933   \n",
       "210461  405136001                8     550.0      33.482077      126.485355   \n",
       "\n",
       "        bus_group_201  bus_group_281  bus_group_360  bus_group_365  weekday_0  \\\n",
       "id                                                                              \n",
       "210457              0              0              1              0          0   \n",
       "210458              0              0              1              0          0   \n",
       "210459              0              0              1              0          0   \n",
       "210460              0              0              1              0          0   \n",
       "210461              0              0              1              0          0   \n",
       "\n",
       "        weekday_1  weekday_2  weekday_3  weekday_4  weekday_5  weekday_6  \n",
       "id                                                                        \n",
       "210457          1          0          0          0          0          0  \n",
       "210458          1          0          0          0          0          0  \n",
       "210459          1          0          0          0          0          0  \n",
       "210460          1          0          0          0          0          0  \n",
       "210461          1          0          0          0          0          0  "
      ]
     },
     "execution_count": 42,
     "metadata": {},
     "output_type": "execute_result"
    }
   ],
   "source": [
    "X_test = pd.get_dummies(test[feature_names])\n",
    "print(X_test.shape)\n",
    "X_test.head()"
   ]
  },
  {
   "cell_type": "code",
   "execution_count": 43,
   "id": "dc156b5f",
   "metadata": {},
   "outputs": [
    {
     "name": "stdout",
     "output_type": "stream",
     "text": [
      "(210457,)\n"
     ]
    },
    {
     "data": {
      "text/plain": [
       "id\n",
       "0    3.218876\n",
       "1    3.610918\n",
       "Name: next_arrive_time_log1p, dtype: float64"
      ]
     },
     "execution_count": 43,
     "metadata": {},
     "output_type": "execute_result"
    }
   ],
   "source": [
    "y_train = train[label_name]\n",
    "print(y_train.shape)\n",
    "y_train.head(2)"
   ]
  },
  {
   "cell_type": "markdown",
   "id": "3ce8e409",
   "metadata": {},
   "source": [
    "## 모델"
   ]
  },
  {
   "cell_type": "code",
   "execution_count": 44,
   "id": "fcb393e8",
   "metadata": {},
   "outputs": [
    {
     "data": {
      "text/plain": [
       "RandomForestRegressor(random_state=42)"
      ]
     },
     "execution_count": 44,
     "metadata": {},
     "output_type": "execute_result"
    }
   ],
   "source": [
    "from sklearn.ensemble import RandomForestRegressor\n",
    "\n",
    "model = RandomForestRegressor(random_state=42)\n",
    "model"
   ]
  },
  {
   "cell_type": "code",
   "execution_count": 45,
   "id": "014fb1f6",
   "metadata": {},
   "outputs": [
    {
     "data": {
      "text/plain": [
       "KFold(n_splits=5, random_state=42, shuffle=True)"
      ]
     },
     "execution_count": 45,
     "metadata": {},
     "output_type": "execute_result"
    }
   ],
   "source": [
    "from sklearn.model_selection import KFold\n",
    "\n",
    "kf = KFold(n_splits=5, shuffle=True, random_state=42)\n",
    "kf"
   ]
  },
  {
   "cell_type": "code",
   "execution_count": 46,
   "id": "e98c8c1b",
   "metadata": {},
   "outputs": [
    {
     "data": {
      "text/plain": [
       "array([3.29013688, 3.57973807, 3.69246798, 4.09344142, 4.12840267,\n",
       "       4.57916345, 3.95379581, 3.98990729, 5.28082774, 4.88077206])"
      ]
     },
     "execution_count": 46,
     "metadata": {},
     "output_type": "execute_result"
    }
   ],
   "source": [
    "from sklearn.model_selection import cross_val_predict\n",
    "\n",
    "y_valid_predict = cross_val_predict(model, X_train, y_train, cv=kf, n_jobs=-1)\n",
    "y_valid_predict[:10]"
   ]
  },
  {
   "cell_type": "code",
   "execution_count": 52,
   "id": "fce4dbf9",
   "metadata": {},
   "outputs": [
    {
     "data": {
      "text/plain": [
       "0.3570515108271684"
      ]
     },
     "execution_count": 52,
     "metadata": {},
     "output_type": "execute_result"
    }
   ],
   "source": [
    "rmse = (((y_train-y_valid_predict)**2).mean()**0.5)\n",
    "rmse"
   ]
  },
  {
   "cell_type": "code",
   "execution_count": 49,
   "id": "a4ba10ed",
   "metadata": {},
   "outputs": [
    {
     "data": {
      "text/plain": [
       "array([3.63999327, 3.71949325, 4.96324797, 4.03741726, 4.99563575,\n",
       "       3.29598941, 4.2050714 , 5.0728423 , 4.74165458, 4.66742168])"
      ]
     },
     "execution_count": 49,
     "metadata": {},
     "output_type": "execute_result"
    }
   ],
   "source": [
    "y_predict = model.fit(X_train, y_train).predict(X_test)\n",
    "y_predict[:10]"
   ]
  },
  {
   "cell_type": "markdown",
   "id": "be3a20a1",
   "metadata": {},
   "source": [
    "## 제출"
   ]
  },
  {
   "cell_type": "code",
   "execution_count": 54,
   "id": "88238622",
   "metadata": {},
   "outputs": [
    {
     "data": {
      "text/html": [
       "<div>\n",
       "<style scoped>\n",
       "    .dataframe tbody tr th:only-of-type {\n",
       "        vertical-align: middle;\n",
       "    }\n",
       "\n",
       "    .dataframe tbody tr th {\n",
       "        vertical-align: top;\n",
       "    }\n",
       "\n",
       "    .dataframe thead th {\n",
       "        text-align: right;\n",
       "    }\n",
       "</style>\n",
       "<table border=\"1\" class=\"dataframe\">\n",
       "  <thead>\n",
       "    <tr style=\"text-align: right;\">\n",
       "      <th></th>\n",
       "      <th>id</th>\n",
       "      <th>next_arrive_time</th>\n",
       "    </tr>\n",
       "  </thead>\n",
       "  <tbody>\n",
       "    <tr>\n",
       "      <th>0</th>\n",
       "      <td>210457</td>\n",
       "      <td>0</td>\n",
       "    </tr>\n",
       "    <tr>\n",
       "      <th>1</th>\n",
       "      <td>210458</td>\n",
       "      <td>0</td>\n",
       "    </tr>\n",
       "  </tbody>\n",
       "</table>\n",
       "</div>"
      ],
      "text/plain": [
       "       id  next_arrive_time\n",
       "0  210457                 0\n",
       "1  210458                 0"
      ]
     },
     "execution_count": 54,
     "metadata": {},
     "output_type": "execute_result"
    }
   ],
   "source": [
    "submit = pd.read_csv(\"bus/submission_제출양식.csv\")\n",
    "submit.head(2)"
   ]
  },
  {
   "cell_type": "code",
   "execution_count": 55,
   "id": "42a8a4ea",
   "metadata": {},
   "outputs": [
    {
     "data": {
      "text/html": [
       "<div>\n",
       "<style scoped>\n",
       "    .dataframe tbody tr th:only-of-type {\n",
       "        vertical-align: middle;\n",
       "    }\n",
       "\n",
       "    .dataframe tbody tr th {\n",
       "        vertical-align: top;\n",
       "    }\n",
       "\n",
       "    .dataframe thead th {\n",
       "        text-align: right;\n",
       "    }\n",
       "</style>\n",
       "<table border=\"1\" class=\"dataframe\">\n",
       "  <thead>\n",
       "    <tr style=\"text-align: right;\">\n",
       "      <th></th>\n",
       "      <th>id</th>\n",
       "      <th>next_arrive_time</th>\n",
       "    </tr>\n",
       "  </thead>\n",
       "  <tbody>\n",
       "    <tr>\n",
       "      <th>0</th>\n",
       "      <td>210457</td>\n",
       "      <td>37.091580</td>\n",
       "    </tr>\n",
       "    <tr>\n",
       "      <th>1</th>\n",
       "      <td>210458</td>\n",
       "      <td>40.243489</td>\n",
       "    </tr>\n",
       "  </tbody>\n",
       "</table>\n",
       "</div>"
      ],
      "text/plain": [
       "       id  next_arrive_time\n",
       "0  210457         37.091580\n",
       "1  210458         40.243489"
      ]
     },
     "execution_count": 55,
     "metadata": {},
     "output_type": "execute_result"
    }
   ],
   "source": [
    "submit[\"next_arrive_time\"] = np.expm1(y_predict)\n",
    "submit.head(2)"
   ]
  },
  {
   "cell_type": "code",
   "execution_count": 56,
   "id": "ff9433e7",
   "metadata": {},
   "outputs": [
    {
     "data": {
      "text/plain": [
       "'bus/submission_0.35705.csv'"
      ]
     },
     "execution_count": 56,
     "metadata": {},
     "output_type": "execute_result"
    }
   ],
   "source": [
    "file_name = f\"bus/submission_{rmse:.5f}.csv\"\n",
    "file_name"
   ]
  },
  {
   "cell_type": "code",
   "execution_count": 57,
   "id": "4a34eac8",
   "metadata": {},
   "outputs": [],
   "source": [
    "submit.to_csv(file_name, index=False)"
   ]
  },
  {
   "cell_type": "code",
   "execution_count": 58,
   "id": "9e4e6070",
   "metadata": {},
   "outputs": [
    {
     "data": {
      "text/html": [
       "<div>\n",
       "<style scoped>\n",
       "    .dataframe tbody tr th:only-of-type {\n",
       "        vertical-align: middle;\n",
       "    }\n",
       "\n",
       "    .dataframe tbody tr th {\n",
       "        vertical-align: top;\n",
       "    }\n",
       "\n",
       "    .dataframe thead th {\n",
       "        text-align: right;\n",
       "    }\n",
       "</style>\n",
       "<table border=\"1\" class=\"dataframe\">\n",
       "  <thead>\n",
       "    <tr style=\"text-align: right;\">\n",
       "      <th></th>\n",
       "      <th>id</th>\n",
       "      <th>next_arrive_time</th>\n",
       "    </tr>\n",
       "  </thead>\n",
       "  <tbody>\n",
       "    <tr>\n",
       "      <th>0</th>\n",
       "      <td>210457</td>\n",
       "      <td>37.091580</td>\n",
       "    </tr>\n",
       "    <tr>\n",
       "      <th>1</th>\n",
       "      <td>210458</td>\n",
       "      <td>40.243489</td>\n",
       "    </tr>\n",
       "    <tr>\n",
       "      <th>2</th>\n",
       "      <td>210459</td>\n",
       "      <td>142.057690</td>\n",
       "    </tr>\n",
       "    <tr>\n",
       "      <th>3</th>\n",
       "      <td>210460</td>\n",
       "      <td>55.679765</td>\n",
       "    </tr>\n",
       "    <tr>\n",
       "      <th>4</th>\n",
       "      <td>210461</td>\n",
       "      <td>146.766859</td>\n",
       "    </tr>\n",
       "    <tr>\n",
       "      <th>...</th>\n",
       "      <td>...</td>\n",
       "      <td>...</td>\n",
       "    </tr>\n",
       "    <tr>\n",
       "      <th>91769</th>\n",
       "      <td>302350</td>\n",
       "      <td>98.941889</td>\n",
       "    </tr>\n",
       "    <tr>\n",
       "      <th>91770</th>\n",
       "      <td>302351</td>\n",
       "      <td>68.429049</td>\n",
       "    </tr>\n",
       "    <tr>\n",
       "      <th>91771</th>\n",
       "      <td>302352</td>\n",
       "      <td>105.056537</td>\n",
       "    </tr>\n",
       "    <tr>\n",
       "      <th>91772</th>\n",
       "      <td>302353</td>\n",
       "      <td>23.397201</td>\n",
       "    </tr>\n",
       "    <tr>\n",
       "      <th>91773</th>\n",
       "      <td>302354</td>\n",
       "      <td>90.192172</td>\n",
       "    </tr>\n",
       "  </tbody>\n",
       "</table>\n",
       "<p>91774 rows × 2 columns</p>\n",
       "</div>"
      ],
      "text/plain": [
       "           id  next_arrive_time\n",
       "0      210457         37.091580\n",
       "1      210458         40.243489\n",
       "2      210459        142.057690\n",
       "3      210460         55.679765\n",
       "4      210461        146.766859\n",
       "...       ...               ...\n",
       "91769  302350         98.941889\n",
       "91770  302351         68.429049\n",
       "91771  302352        105.056537\n",
       "91772  302353         23.397201\n",
       "91773  302354         90.192172\n",
       "\n",
       "[91774 rows x 2 columns]"
      ]
     },
     "execution_count": 58,
     "metadata": {},
     "output_type": "execute_result"
    }
   ],
   "source": [
    "pd.read_csv(file_name)"
   ]
  },
  {
   "cell_type": "markdown",
   "id": "65b43de7",
   "metadata": {},
   "source": [
    "## feature_names 변경"
   ]
  },
  {
   "cell_type": "code",
   "execution_count": 84,
   "id": "502332fc",
   "metadata": {},
   "outputs": [],
   "source": [
    "feature_names = ['route_id', 'now_arrive_time', 'distance',\n",
    "       'bus_group_201', 'bus_group_281', 'bus_group_360', 'bus_group_365',\n",
    "       'weekday_0', 'weekday_1']"
   ]
  },
  {
   "cell_type": "code",
   "execution_count": 85,
   "id": "244cec0d",
   "metadata": {},
   "outputs": [
    {
     "name": "stdout",
     "output_type": "stream",
     "text": [
      "Fitting 5 folds for each of 10 candidates, totalling 50 fits\n"
     ]
    },
    {
     "data": {
      "text/plain": [
       "RandomizedSearchCV(cv=5, estimator=RandomForestRegressor(random_state=42),\n",
       "                   n_jobs=-1,\n",
       "                   param_distributions={'max_depth': array([24, 15, 20, 19, 23, 17, 28, 20, 20, 15]),\n",
       "                                        'max_features': array([0.82181233, 0.89881599, 0.94805775, 0.91486197, 0.9958449 ,\n",
       "       0.91231607, 0.89463397, 0.89260019, 0.85509298, 0.87536098])},\n",
       "                   random_state=42, scoring='neg_root_mean_squared_error',\n",
       "                   verbose=2)"
      ]
     },
     "execution_count": 85,
     "metadata": {},
     "output_type": "execute_result"
    }
   ],
   "source": [
    "from sklearn.model_selection import RandomizedSearchCV\n",
    "\n",
    "param_distributions = {\"max_depth\": np.random.randint(15, 30, 10), \n",
    "                       \"max_features\": np.random.uniform(0.8, 1, 10)}\n",
    "\n",
    "reg = RandomizedSearchCV(model, \n",
    "                         param_distributions=param_distributions, \n",
    "                         scoring=\"neg_root_mean_squared_error\",\n",
    "                         n_iter=10, cv=5, n_jobs=-1,\n",
    "                         verbose=2, random_state=42)\n",
    "reg.fit(X_train, y_train)"
   ]
  },
  {
   "cell_type": "code",
   "execution_count": 108,
   "id": "f6dd0b84",
   "metadata": {},
   "outputs": [
    {
     "data": {
      "text/plain": [
       "RandomForestRegressor(max_depth=15, max_features=0.8218123296582345,\n",
       "                      random_state=42)"
      ]
     },
     "execution_count": 108,
     "metadata": {},
     "output_type": "execute_result"
    }
   ],
   "source": [
    "best_model = reg.best_estimator_\n",
    "best_model"
   ]
  },
  {
   "cell_type": "code",
   "execution_count": 110,
   "id": "59efdf3d",
   "metadata": {},
   "outputs": [
    {
     "name": "stderr",
     "output_type": "stream",
     "text": [
      "[Parallel(n_jobs=-1)]: Using backend LokyBackend with 4 concurrent workers.\n",
      "[Parallel(n_jobs=-1)]: Done   5 out of   5 | elapsed:  1.2min finished\n"
     ]
    },
    {
     "data": {
      "text/plain": [
       "array([3.80059133, 4.12786746, 3.80277388, 4.2064739 , 4.24522911,\n",
       "       3.47218573, 4.52111768, 4.06725123, 3.94672675, 4.96460073])"
      ]
     },
     "execution_count": 110,
     "metadata": {},
     "output_type": "execute_result"
    }
   ],
   "source": [
    "y_valid_pred = cross_val_predict(best_model, X_train, y_train, cv=5, n_jobs=-1, verbose=2)\n",
    "y_valid_pred[:10]"
   ]
  },
  {
   "cell_type": "code",
   "execution_count": 112,
   "id": "0abf0e6e",
   "metadata": {},
   "outputs": [
    {
     "data": {
      "text/plain": [
       "0.374962424368189"
      ]
     },
     "execution_count": 112,
     "metadata": {},
     "output_type": "execute_result"
    }
   ],
   "source": [
    "rmse = (((y_train-y_valid_pred)**2).mean()**0.5)\n",
    "rmse"
   ]
  },
  {
   "cell_type": "markdown",
   "id": "a065a892",
   "metadata": {},
   "source": [
    "## feature_names변경, XG부스트"
   ]
  },
  {
   "cell_type": "code",
   "execution_count": 59,
   "id": "639a9fc8",
   "metadata": {},
   "outputs": [],
   "source": [
    "feature_names = ['route_id', 'now_arrive_time', 'distance',\n",
    "       'bus_group_201', 'bus_group_281', 'bus_group_360', 'bus_group_365',\n",
    "       'weekday_0', 'weekday_1']"
   ]
  },
  {
   "cell_type": "code",
   "execution_count": 99,
   "id": "2ad1cd65",
   "metadata": {},
   "outputs": [
    {
     "data": {
      "text/plain": [
       "((168365, 9), (42092, 9), (168365,), (42092,))"
      ]
     },
     "execution_count": 99,
     "metadata": {},
     "output_type": "execute_result"
    }
   ],
   "source": [
    "from sklearn.model_selection import train_test_split\n",
    "\n",
    "X_train, X_test, y_train, y_test = train_test_split(X_train, y_train, test_size=0.2 ,random_state=42)\n",
    "X_train.shape, X_test.shape, y_train.shape, y_test.shape"
   ]
  },
  {
   "cell_type": "code",
   "execution_count": 101,
   "id": "2b89faf1",
   "metadata": {},
   "outputs": [
    {
     "data": {
      "text/plain": [
       "((168365, 9), (168365,), (42092,), (42092,))"
      ]
     },
     "execution_count": 101,
     "metadata": {},
     "output_type": "execute_result"
    }
   ],
   "source": [
    "from sklearn.preprocessing import LabelEncoder\n",
    "\n",
    "le = LabelEncoder()\n",
    "y_xgb_train = le.fit_transform(y_train)\n",
    "y_xgb_test = le.fit_transform(y_test)\n",
    "X_train.shape, y_xgb_train.shape, y_test.shape, y_xgb_test.shape"
   ]
  },
  {
   "cell_type": "code",
   "execution_count": 115,
   "id": "6683a027",
   "metadata": {},
   "outputs": [
    {
     "data": {
      "text/plain": [
       "XGBRegressor(base_score=0.5, booster='gbtree', callbacks=None,\n",
       "             colsample_bylevel=1, colsample_bynode=1, colsample_bytree=1,\n",
       "             early_stopping_rounds=None, enable_categorical=False,\n",
       "             eval_metric=None, feature_types=None, gamma=0, gpu_id=-1,\n",
       "             grow_policy='depthwise', importance_type=None,\n",
       "             interaction_constraints='', learning_rate=0.300000012, max_bin=256,\n",
       "             max_cat_threshold=64, max_cat_to_onehot=4, max_delta_step=0,\n",
       "             max_depth=6, max_leaves=0, min_child_weight=1, missing=nan,\n",
       "             monotone_constraints='()', n_estimators=100, n_jobs=0,\n",
       "             num_parallel_tree=1, predictor='auto', random_state=0, ...)"
      ]
     },
     "execution_count": 115,
     "metadata": {},
     "output_type": "execute_result"
    }
   ],
   "source": [
    "from xgboost.sklearn import XGBRegressor\n",
    "\n",
    "xgb=XGBRegressor()\n",
    "xgb.fit(X_train, y_xgb_train)"
   ]
  },
  {
   "cell_type": "code",
   "execution_count": 116,
   "id": "c8089240",
   "metadata": {},
   "outputs": [
    {
     "data": {
      "text/plain": [
       "array([18.833515, 31.906925, 69.10008 , ..., 11.94605 , 29.37337 ,\n",
       "       32.20346 ], dtype=float32)"
      ]
     },
     "execution_count": 116,
     "metadata": {},
     "output_type": "execute_result"
    }
   ],
   "source": [
    "y_xgb_predict = xgb.predict(X_test)\n",
    "y_xgb_predict"
   ]
  },
  {
   "cell_type": "code",
   "execution_count": 119,
   "id": "47017b0a",
   "metadata": {
    "collapsed": true
   },
   "outputs": [
    {
     "ename": "ValueError",
     "evalue": "Mean Squared Logarithmic Error cannot be used when targets contain negative values.",
     "output_type": "error",
     "traceback": [
      "\u001b[1;31m---------------------------------------------------------------------------\u001b[0m",
      "\u001b[1;31mValueError\u001b[0m                                Traceback (most recent call last)",
      "\u001b[1;32m~\\AppData\\Local\\Temp\\ipykernel_3840\\1623261433.py\u001b[0m in \u001b[0;36m<module>\u001b[1;34m\u001b[0m\n\u001b[0;32m      1\u001b[0m \u001b[1;32mfrom\u001b[0m \u001b[0msklearn\u001b[0m\u001b[1;33m.\u001b[0m\u001b[0mmetrics\u001b[0m \u001b[1;32mimport\u001b[0m \u001b[0mmean_squared_log_error\u001b[0m\u001b[1;33m\u001b[0m\u001b[1;33m\u001b[0m\u001b[0m\n\u001b[1;32m----> 2\u001b[1;33m \u001b[0mRMSLE\u001b[0m \u001b[1;33m=\u001b[0m \u001b[0mnp\u001b[0m\u001b[1;33m.\u001b[0m\u001b[0msqrt\u001b[0m\u001b[1;33m(\u001b[0m\u001b[0mmean_squared_log_error\u001b[0m\u001b[1;33m(\u001b[0m\u001b[0my_test\u001b[0m\u001b[1;33m,\u001b[0m \u001b[0my_xgb_predict\u001b[0m\u001b[1;33m)\u001b[0m\u001b[1;33m)\u001b[0m\u001b[1;33m\u001b[0m\u001b[1;33m\u001b[0m\u001b[0m\n\u001b[0m\u001b[0;32m      3\u001b[0m \u001b[0mRMSLE\u001b[0m\u001b[1;33m\u001b[0m\u001b[1;33m\u001b[0m\u001b[0m\n",
      "\u001b[1;32m~\\anaconda3\\lib\\site-packages\\sklearn\\metrics\\_regression.py\u001b[0m in \u001b[0;36mmean_squared_log_error\u001b[1;34m(y_true, y_pred, sample_weight, multioutput, squared)\u001b[0m\n\u001b[0;32m    519\u001b[0m \u001b[1;33m\u001b[0m\u001b[0m\n\u001b[0;32m    520\u001b[0m     \u001b[1;32mif\u001b[0m \u001b[1;33m(\u001b[0m\u001b[0my_true\u001b[0m \u001b[1;33m<\u001b[0m \u001b[1;36m0\u001b[0m\u001b[1;33m)\u001b[0m\u001b[1;33m.\u001b[0m\u001b[0many\u001b[0m\u001b[1;33m(\u001b[0m\u001b[1;33m)\u001b[0m \u001b[1;32mor\u001b[0m \u001b[1;33m(\u001b[0m\u001b[0my_pred\u001b[0m \u001b[1;33m<\u001b[0m \u001b[1;36m0\u001b[0m\u001b[1;33m)\u001b[0m\u001b[1;33m.\u001b[0m\u001b[0many\u001b[0m\u001b[1;33m(\u001b[0m\u001b[1;33m)\u001b[0m\u001b[1;33m:\u001b[0m\u001b[1;33m\u001b[0m\u001b[1;33m\u001b[0m\u001b[0m\n\u001b[1;32m--> 521\u001b[1;33m         raise ValueError(\n\u001b[0m\u001b[0;32m    522\u001b[0m             \u001b[1;34m\"Mean Squared Logarithmic Error cannot be used when \"\u001b[0m\u001b[1;33m\u001b[0m\u001b[1;33m\u001b[0m\u001b[0m\n\u001b[0;32m    523\u001b[0m             \u001b[1;34m\"targets contain negative values.\"\u001b[0m\u001b[1;33m\u001b[0m\u001b[1;33m\u001b[0m\u001b[0m\n",
      "\u001b[1;31mValueError\u001b[0m: Mean Squared Logarithmic Error cannot be used when targets contain negative values."
     ]
    }
   ],
   "source": [
    "# 실패.. 음수를 없앨 수 있게 log를 취해주거나, 최소값을 더해주는 등의 처리가 필요할 것 같다.\n",
    "from sklearn.metrics import mean_squared_log_error\n",
    "RMSLE = np.sqrt(mean_squared_log_error(y_test, y_xgb_predict))\n",
    "RMSLE"
   ]
  },
  {
   "cell_type": "code",
   "execution_count": 117,
   "id": "b19d4161",
   "metadata": {},
   "outputs": [
    {
     "data": {
      "text/plain": [
       "0.0"
      ]
     },
     "execution_count": 117,
     "metadata": {},
     "output_type": "execute_result"
    }
   ],
   "source": [
    "xgb_score = (y_xgb_predict == y_xgb_test).mean()\n",
    "xgb_score"
   ]
  },
  {
   "cell_type": "markdown",
   "id": "c50c6f84",
   "metadata": {},
   "source": [
    "## 그라디언트부스트"
   ]
  },
  {
   "cell_type": "code",
   "execution_count": 70,
   "id": "2c7c7f0e",
   "metadata": {},
   "outputs": [
    {
     "data": {
      "text/plain": [
       "GradientBoostingRegressor(random_state=42)"
      ]
     },
     "execution_count": 70,
     "metadata": {},
     "output_type": "execute_result"
    }
   ],
   "source": [
    "from sklearn.ensemble import GradientBoostingRegressor\n",
    "\n",
    "model_gbt = GradientBoostingRegressor(random_state=42)\n",
    "model_gbt"
   ]
  },
  {
   "cell_type": "code",
   "execution_count": 78,
   "id": "df3c54c5",
   "metadata": {},
   "outputs": [
    {
     "data": {
      "text/plain": [
       "0.5001283156505691"
      ]
     },
     "execution_count": 78,
     "metadata": {},
     "output_type": "execute_result"
    }
   ],
   "source": [
    "gbt_score = model_gbt.score(X_train, y_train)\n",
    "gbt_score"
   ]
  },
  {
   "cell_type": "code",
   "execution_count": 73,
   "id": "e15fc0e1",
   "metadata": {},
   "outputs": [
    {
     "data": {
      "text/plain": [
       "array([4.1646781 , 4.34500174, 4.52219023, ..., 4.27440256, 3.43951691,\n",
       "       4.5371601 ])"
      ]
     },
     "execution_count": 73,
     "metadata": {},
     "output_type": "execute_result"
    }
   ],
   "source": [
    "gbt_predict = model_gbt.fit(X_train, y_train).predict(X_test)\n",
    "gbt_predict"
   ]
  },
  {
   "cell_type": "code",
   "execution_count": 74,
   "id": "2398e7a7",
   "metadata": {},
   "outputs": [
    {
     "data": {
      "text/html": [
       "<div>\n",
       "<style scoped>\n",
       "    .dataframe tbody tr th:only-of-type {\n",
       "        vertical-align: middle;\n",
       "    }\n",
       "\n",
       "    .dataframe tbody tr th {\n",
       "        vertical-align: top;\n",
       "    }\n",
       "\n",
       "    .dataframe thead th {\n",
       "        text-align: right;\n",
       "    }\n",
       "</style>\n",
       "<table border=\"1\" class=\"dataframe\">\n",
       "  <thead>\n",
       "    <tr style=\"text-align: right;\">\n",
       "      <th></th>\n",
       "      <th>id</th>\n",
       "      <th>next_arrive_time</th>\n",
       "    </tr>\n",
       "  </thead>\n",
       "  <tbody>\n",
       "    <tr>\n",
       "      <th>0</th>\n",
       "      <td>210457</td>\n",
       "      <td>0</td>\n",
       "    </tr>\n",
       "    <tr>\n",
       "      <th>1</th>\n",
       "      <td>210458</td>\n",
       "      <td>0</td>\n",
       "    </tr>\n",
       "  </tbody>\n",
       "</table>\n",
       "</div>"
      ],
      "text/plain": [
       "       id  next_arrive_time\n",
       "0  210457                 0\n",
       "1  210458                 0"
      ]
     },
     "execution_count": 74,
     "metadata": {},
     "output_type": "execute_result"
    }
   ],
   "source": [
    "submit = pd.read_csv(\"bus/submission_제출양식.csv\")\n",
    "submit.head(2)"
   ]
  },
  {
   "cell_type": "code",
   "execution_count": 75,
   "id": "acbfd86a",
   "metadata": {},
   "outputs": [
    {
     "data": {
      "text/html": [
       "<div>\n",
       "<style scoped>\n",
       "    .dataframe tbody tr th:only-of-type {\n",
       "        vertical-align: middle;\n",
       "    }\n",
       "\n",
       "    .dataframe tbody tr th {\n",
       "        vertical-align: top;\n",
       "    }\n",
       "\n",
       "    .dataframe thead th {\n",
       "        text-align: right;\n",
       "    }\n",
       "</style>\n",
       "<table border=\"1\" class=\"dataframe\">\n",
       "  <thead>\n",
       "    <tr style=\"text-align: right;\">\n",
       "      <th></th>\n",
       "      <th>id</th>\n",
       "      <th>next_arrive_time</th>\n",
       "    </tr>\n",
       "  </thead>\n",
       "  <tbody>\n",
       "    <tr>\n",
       "      <th>0</th>\n",
       "      <td>210457</td>\n",
       "      <td>63.371958</td>\n",
       "    </tr>\n",
       "    <tr>\n",
       "      <th>1</th>\n",
       "      <td>210458</td>\n",
       "      <td>76.092171</td>\n",
       "    </tr>\n",
       "  </tbody>\n",
       "</table>\n",
       "</div>"
      ],
      "text/plain": [
       "       id  next_arrive_time\n",
       "0  210457         63.371958\n",
       "1  210458         76.092171"
      ]
     },
     "execution_count": 75,
     "metadata": {},
     "output_type": "execute_result"
    }
   ],
   "source": [
    "submit[\"next_arrive_time\"] = np.expm1(gbt_predict)\n",
    "submit.head(2)"
   ]
  },
  {
   "cell_type": "code",
   "execution_count": 79,
   "id": "81ae8ef2",
   "metadata": {},
   "outputs": [
    {
     "data": {
      "text/plain": [
       "'bus/gbt_submission_0.50013.csv'"
      ]
     },
     "execution_count": 79,
     "metadata": {},
     "output_type": "execute_result"
    }
   ],
   "source": [
    "file_name = f\"bus/gbt_submission_{gbt_score:.5f}.csv\"\n",
    "file_name"
   ]
  }
 ],
 "metadata": {
  "kernelspec": {
   "display_name": "Python 3 (ipykernel)",
   "language": "python",
   "name": "python3"
  },
  "language_info": {
   "codemirror_mode": {
    "name": "ipython",
    "version": 3
   },
   "file_extension": ".py",
   "mimetype": "text/x-python",
   "name": "python",
   "nbconvert_exporter": "python",
   "pygments_lexer": "ipython3",
   "version": "3.9.13"
  },
  "toc": {
   "base_numbering": 1,
   "nav_menu": {},
   "number_sections": true,
   "sideBar": true,
   "skip_h1_title": false,
   "title_cell": "Table of Contents",
   "title_sidebar": "Contents",
   "toc_cell": false,
   "toc_position": {},
   "toc_section_display": true,
   "toc_window_display": true
  }
 },
 "nbformat": 4,
 "nbformat_minor": 5
}
